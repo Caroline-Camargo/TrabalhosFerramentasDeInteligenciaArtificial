{
  "nbformat": 4,
  "nbformat_minor": 0,
  "metadata": {
    "colab": {
      "provenance": [],
      "include_colab_link": true
    },
    "kernelspec": {
      "name": "python3",
      "display_name": "Python 3"
    },
    "language_info": {
      "name": "python"
    }
  },
  "cells": [
    {
      "cell_type": "markdown",
      "metadata": {
        "id": "view-in-github",
        "colab_type": "text"
      },
      "source": [
        "<a href=\"https://colab.research.google.com/github/Caroline-Camargo/TrabalhosFerramentasDeInteligenciaArtificial/blob/main/Tarefa6_Algoritmos_Gen%C3%A9ticos_DEAP_Caroline_Souza_Camargo.ipynb\" target=\"_parent\"><img src=\"https://colab.research.google.com/assets/colab-badge.svg\" alt=\"Open In Colab\"/></a>"
      ]
    },
    {
      "cell_type": "markdown",
      "source": [
        "# DEAP Introdução\n",
        "---\n",
        "![image](https://deap.readthedocs.io/en/master/_images/deap_long.png)"
      ],
      "metadata": {
        "id": "FMi0EhVOwP5Z"
      }
    },
    {
      "cell_type": "markdown",
      "source": [
        "* Distributed Evolutionary Algorithm in Python  is a evolutionary computation framework for rapid prototyping and testing of ideas.\n",
        "\n",
        "* [DEAP](https://github.com/DEAP/deap) (Distributed Evolutionary Algorithm in Python) é um framework de computação evolutiva para prototipagem rápida e teste de ideias."
      ],
      "metadata": {
        "id": "pprT5JITonWu"
      }
    },
    {
      "cell_type": "markdown",
      "source": [
        "## Material Teórico Algoritmos Genéticos"
      ],
      "metadata": {
        "id": "kU87dqEyNnWu"
      }
    },
    {
      "cell_type": "markdown",
      "source": [
        "* Youtube: [Genetic Algorithms by Example](https://www.youtube.com/watch?v=uQj5UNhCPuo)\n",
        "\n",
        "* Medium: [Genetic Algorithms From Theory to Practice](https://medium.com/@atbender/from-theory-to-practice-designing-genetic-algorithms-to-solve-complex-optimization-problems-cbb2ae44296)\n",
        "\n",
        "* Book: [Introduction to Genetic Algorithms -- Melanie Mitchell](https://www.boente.eti.br/fuzzy/ebook-fuzzy-mitchell.pdf)\n"
      ],
      "metadata": {
        "id": "xZ_yUDzTNySr"
      }
    },
    {
      "cell_type": "markdown",
      "source": [
        "## Instalando DEAP"
      ],
      "metadata": {
        "id": "3Oyn_6YfwL4V"
      }
    },
    {
      "cell_type": "code",
      "execution_count": 62,
      "metadata": {
        "colab": {
          "base_uri": "https://localhost:8080/"
        },
        "id": "e2b_F9SYlWjG",
        "outputId": "f25156a3-c3ba-4b7f-860b-40720c572209"
      },
      "outputs": [
        {
          "output_type": "stream",
          "name": "stdout",
          "text": [
            "Requirement already satisfied: deap in /usr/local/lib/python3.10/dist-packages (1.4.1)\n",
            "Requirement already satisfied: numpy in /usr/local/lib/python3.10/dist-packages (from deap) (1.25.2)\n"
          ]
        }
      ],
      "source": [
        "!pip install deap"
      ]
    },
    {
      "cell_type": "code",
      "source": [
        "import warnings\n",
        "\n",
        "# Estamos suprimindo um warning do DEAP que pode dificultar a visualização dos resultados\n",
        "warnings.filterwarnings(\"ignore\", category=RuntimeWarning)"
      ],
      "metadata": {
        "id": "tZJoSouPfuLT"
      },
      "execution_count": 63,
      "outputs": []
    },
    {
      "cell_type": "markdown",
      "source": [
        "## Fitness"
      ],
      "metadata": {
        "id": "jEQb0eQopZ3F"
      }
    },
    {
      "cell_type": "markdown",
      "source": [
        "* Para definir funções de fitness, usamos `creator.create()`.\n",
        "\n",
        "* A função `create()` recebe três argumentos: um nome para a nova classe criada, uma classe base e o atributo de pesos.\n",
        "\n",
        "* A classe de fitness requer um parâmetro de pesos, que descreve os objetivos.\n",
        "\n",
        "* O atributo de pesos deve ser uma tupla para que fitness de múltiplos objetivos e de objetivo único possam ser tratadas da mesma maneira.\n",
        "\n",
        "* Abaixo, definimos uma função de maximização de objetivo único:\n",
        "\n",
        "* Observe que tuplas de um único elemento em Python são definidas com uma vírgula no final."
      ],
      "metadata": {
        "id": "fxnF-BfVqtr9"
      }
    },
    {
      "cell_type": "code",
      "source": [
        "from deap import base, creator\n",
        "\n",
        "creator.create(\"Fitness\", base.Fitness, weights=(1.0,))"
      ],
      "metadata": {
        "id": "F67Vk7zzqlGL"
      },
      "execution_count": 64,
      "outputs": []
    },
    {
      "cell_type": "markdown",
      "source": [
        "* Uma fitness de minimização é construída usando pesos negativos, enquanto uma fitness de maximização tem pesos positivos.\n",
        "\n",
        "* Podemos facilmente definir uma função de aptidão que maximize o primeiro objetivo e minimize o segundo."
      ],
      "metadata": {
        "id": "QXTqf0Phsp7e"
      }
    },
    {
      "cell_type": "code",
      "source": [
        "creator.create(\"FitnessMulti\", base.Fitness, weights=(1.0, -1.0))"
      ],
      "metadata": {
        "id": "txymYSYTqn26"
      },
      "execution_count": 65,
      "outputs": []
    },
    {
      "cell_type": "markdown",
      "source": [
        "* Os pesos podem ser usados para variar a importância de cada objetivo em relação aos outros."
      ],
      "metadata": {
        "id": "ybmku_d6u196"
      }
    },
    {
      "cell_type": "code",
      "source": [
        "creator.create(\"FitnessMulti\", base.Fitness, weights=(1.0, -2.0, 0.4, 1000.0))"
      ],
      "metadata": {
        "id": "_sG1WdPeugZZ"
      },
      "execution_count": 66,
      "outputs": []
    },
    {
      "cell_type": "markdown",
      "source": [
        "## Indivíduo"
      ],
      "metadata": {
        "id": "4PMcnODawJB-"
      }
    },
    {
      "cell_type": "markdown",
      "source": [
        "* A forma como os indivíduos são definidos impacta fortemente um algoritmo genético.\n",
        "\n",
        "* Indivíduos podem ser criados usando o `creator` e inicializados usando uma `Toolbox`.\n",
        "\n",
        "* Vamos definir um indivíduo com 10 atributos de ponto flutuante e inicializá-lo aleatoriamente."
      ],
      "metadata": {
        "id": "vHoSxwLCwkYt"
      }
    },
    {
      "cell_type": "code",
      "source": [
        "import random\n",
        "\n",
        "from deap import tools\n",
        "\n",
        "creator.create(\"FitnessMax\", base.Fitness, weights=(-1.0,))\n",
        "creator.create(\"Individual\", list, fitness=creator.FitnessMax)\n",
        "\n",
        "INDIVIDUAL_SIZE=10\n",
        "\n",
        "toolbox = base.Toolbox()\n",
        "toolbox.register(\"attr_float\", random.random)\n",
        "toolbox.register(\"individual\",\n",
        "                 tools.initRepeat,\n",
        "                 creator.Individual,\n",
        "                 toolbox.attr_float,\n",
        "                 n=INDIVIDUAL_SIZE)\n",
        "\n",
        "toolbox.individual()"
      ],
      "metadata": {
        "colab": {
          "base_uri": "https://localhost:8080/"
        },
        "id": "OJMaj8KVpX1s",
        "outputId": "3cba3513-5e19-48d6-ac78-89b9eea502e5"
      },
      "execution_count": 67,
      "outputs": [
        {
          "output_type": "execute_result",
          "data": {
            "text/plain": [
              "[0.8341073741990507,\n",
              " 0.554864298845592,\n",
              " 0.7628340249622038,\n",
              " 0.6501469077188133,\n",
              " 0.1149027675086629,\n",
              " 0.27868001287227706,\n",
              " 0.5093711167646309,\n",
              " 0.40858880807152576,\n",
              " 0.662466730132052,\n",
              " 0.1530223197069035]"
            ]
          },
          "metadata": {},
          "execution_count": 67
        }
      ]
    },
    {
      "cell_type": "markdown",
      "source": [
        "* Da mesma forma, podemos alterar a função `random` para criar um indivíduo de permutação."
      ],
      "metadata": {
        "id": "yuWVrSjA-FUY"
      }
    },
    {
      "cell_type": "code",
      "source": [
        "creator.create(\"FitnessMin\", base.Fitness, weights=(-1.0,))\n",
        "creator.create(\"Individual\", list, fitness=creator.FitnessMin)\n",
        "\n",
        "IND_SIZE=10\n",
        "\n",
        "toolbox = base.Toolbox()\n",
        "toolbox.register(\"indices\", random.sample, range(IND_SIZE), IND_SIZE)\n",
        "toolbox.register(\"individual_sample\",\n",
        "                 tools.initIterate,\n",
        "                 creator.Individual,\n",
        "                 toolbox.indices)\n",
        "\n",
        "print(toolbox.individual_sample())\n",
        "print(toolbox.individual_sample())"
      ],
      "metadata": {
        "colab": {
          "base_uri": "https://localhost:8080/"
        },
        "id": "lzVySa2f94PC",
        "outputId": "96423fbb-0565-49fb-8541-49101cc6d1da"
      },
      "execution_count": 68,
      "outputs": [
        {
          "output_type": "stream",
          "name": "stdout",
          "text": [
            "[8, 5, 0, 6, 3, 4, 1, 9, 2, 7]\n",
            "[0, 8, 9, 1, 7, 6, 4, 2, 3, 5]\n"
          ]
        }
      ]
    },
    {
      "cell_type": "markdown",
      "source": [
        "## População"
      ],
      "metadata": {
        "id": "hvdtGD9r--Fg"
      }
    },
    {
      "cell_type": "markdown",
      "source": [
        "* Populações são coleções de indivíduos."
      ],
      "metadata": {
        "id": "ZdPpjOfH_LVC"
      }
    },
    {
      "cell_type": "code",
      "source": [
        "toolbox.register(\"population\", tools.initRepeat, list, toolbox.individual_sample)\n",
        "print(toolbox.population(n=5))\n",
        "print(toolbox.population(n=5))"
      ],
      "metadata": {
        "colab": {
          "base_uri": "https://localhost:8080/"
        },
        "id": "t0sDPdQm_O1x",
        "outputId": "d25d57a6-bc45-4a09-a0bb-2c5fc0bd15de"
      },
      "execution_count": 69,
      "outputs": [
        {
          "output_type": "stream",
          "name": "stdout",
          "text": [
            "[[0, 9, 6, 2, 1, 8, 3, 4, 5, 7], [5, 8, 3, 1, 9, 0, 2, 7, 4, 6], [4, 3, 0, 2, 6, 7, 5, 9, 1, 8], [1, 5, 3, 0, 4, 6, 8, 2, 9, 7], [9, 2, 8, 5, 6, 1, 7, 4, 3, 0]]\n",
            "[[4, 7, 1, 6, 3, 9, 2, 8, 5, 0], [2, 9, 4, 8, 1, 6, 7, 3, 5, 0], [2, 7, 5, 3, 6, 8, 9, 4, 1, 0], [4, 6, 9, 7, 5, 1, 3, 8, 0, 2], [3, 9, 7, 2, 1, 5, 6, 0, 4, 8]]\n"
          ]
        }
      ]
    },
    {
      "cell_type": "markdown",
      "source": [
        "* Outros tipos notáveis de população incluem [Grade](https://deap.readthedocs.io/en/master/tutorials/basic/part1.html#grid), [Enxame](https://deap.readthedocs.io/en/master/tutorials/basic/part1.html#swarm) e [Demes](https://deap.readthedocs.io/en/master/tutorials/basic/part1.html#demes)."
      ],
      "metadata": {
        "id": "-qm_7etn_x86"
      }
    },
    {
      "cell_type": "markdown",
      "source": [
        "## Avaliação"
      ],
      "metadata": {
        "id": "UslKejisC-R3"
      }
    },
    {
      "cell_type": "markdown",
      "source": [
        "![image](https://www.researchgate.net/publication/316514846/figure/fig1/AS:487714714853376@1493291657451/Genetic-Algorithm-Evaluation-Flow.png)"
      ],
      "metadata": {
        "id": "cqOv-aVec6TD"
      }
    },
    {
      "cell_type": "markdown",
      "source": [
        "* Ao inspecionar a avaliação de aptidão dos nossos indivíduos, podemos ver que sua avaliação permanece indefinida até que a alteremos."
      ],
      "metadata": {
        "id": "_AByoz_yC_nW"
      }
    },
    {
      "cell_type": "code",
      "source": [
        "creator.create(\"FitnessMax\", base.Fitness, weights=(1.0,))\n",
        "creator.create(\"Individual\", list, fitness=creator.FitnessMax)\n",
        "\n",
        "INDIVIDUAL_SIZE=10\n",
        "\n",
        "toolbox = base.Toolbox()\n",
        "toolbox.register(\"attr_float\", random.random)\n",
        "toolbox.register(\"individual\",\n",
        "                 tools.initRepeat,\n",
        "                 creator.Individual,\n",
        "                 toolbox.attr_float,\n",
        "                 n=INDIVIDUAL_SIZE)\n",
        "\n",
        "individual = toolbox.individual()\n",
        "\n",
        "print(individual)\n",
        "print(individual.fitness.valid)\n",
        "print(individual.fitness.values)"
      ],
      "metadata": {
        "colab": {
          "base_uri": "https://localhost:8080/"
        },
        "id": "rXgTEcXgCvB9",
        "outputId": "0a332262-d53f-43e5-878a-b026d248d567"
      },
      "execution_count": 70,
      "outputs": [
        {
          "output_type": "stream",
          "name": "stdout",
          "text": [
            "[0.7053531478816893, 0.5014089016897609, 0.7470262154288041, 0.012001401926812094, 0.6266443584550732, 0.8345427149127239, 0.5538775385930216, 0.19380024138295948, 0.19146604542130896, 0.6333005860582546]\n",
            "False\n",
            "()\n"
          ]
        }
      ]
    },
    {
      "cell_type": "markdown",
      "source": [
        "* Aqui vamos criar uma avaliação que é simplesmente a soma de todos os atributos do indivíduo.\n",
        "\n",
        "* Lembre-se de que a avaliação de aptidão dos indivíduos precisa ser uma tupla pelos mesmos motivos discutidos anteriormente."
      ],
      "metadata": {
        "id": "YubS3Hi6G45K"
      }
    },
    {
      "cell_type": "code",
      "source": [
        "def evaluate(individual):\n",
        "    return (sum(individual),)\n",
        "\n",
        "individual.fitness.values = evaluate(individual)\n",
        "\n",
        "print(individual.fitness.valid)\n",
        "print(individual.fitness)"
      ],
      "metadata": {
        "colab": {
          "base_uri": "https://localhost:8080/"
        },
        "id": "98PAr97pED8o",
        "outputId": "9c2ace0d-c3e2-41cc-cb50-1766e831b33b"
      },
      "execution_count": 71,
      "outputs": [
        {
          "output_type": "stream",
          "name": "stdout",
          "text": [
            "True\n",
            "(4.999421151750409,)\n"
          ]
        }
      ]
    },
    {
      "cell_type": "markdown",
      "source": [
        "## Mutação"
      ],
      "metadata": {
        "id": "Vd04mfFCHXG4"
      }
    },
    {
      "cell_type": "markdown",
      "source": [
        "![image](https://www.researchgate.net/publication/272093243/figure/fig8/AS:329956690284546@1455679213204/Mutation-operators-applied-to-chromosomes-in-the-proposed-genetic-algorithm.png)"
      ],
      "metadata": {
        "id": "fOR1xaeYdcMC"
      }
    },
    {
      "cell_type": "markdown",
      "source": [
        "* Existem diversos operadores de mutação no módulo `deap.tools`.\n",
        "\n",
        "* A regra geral para operadores de mutação é que eles apenas mutam.\n",
        "\n",
        "* Uma cópia independente deve ser feita antes de mutar o indivíduo original se o indivíduo original precisar ser mantido.\n",
        "\n",
        "* Para aplicar uma mutação (aqui uma mutação gaussiana), simplesmente utilize a função desejada."
      ],
      "metadata": {
        "id": "B3xIp-gFJsV4"
      }
    },
    {
      "cell_type": "code",
      "source": [
        "mutant = toolbox.clone(individual)\n",
        "mutant, = tools.mutGaussian(mutant, mu=0.0, sigma=0.2, indpb=0.2)\n",
        "\n",
        "del mutant.fitness.values\n",
        "\n",
        "print(individual)\n",
        "print(mutant)"
      ],
      "metadata": {
        "colab": {
          "base_uri": "https://localhost:8080/"
        },
        "id": "0WHzZC2KKE8b",
        "outputId": "abcfc5eb-ae27-452b-e835-77e117009c2c"
      },
      "execution_count": 72,
      "outputs": [
        {
          "output_type": "stream",
          "name": "stdout",
          "text": [
            "[0.7053531478816893, 0.5014089016897609, 0.7470262154288041, 0.012001401926812094, 0.6266443584550732, 0.8345427149127239, 0.5538775385930216, 0.19380024138295948, 0.19146604542130896, 0.6333005860582546]\n",
            "[0.7053531478816893, 0.7620762463353035, 0.7470262154288041, -0.011951979395872475, 0.6433875149746874, 0.8345427149127239, 0.5538775385930216, 0.19380024138295948, 0.19146604542130896, 0.6333005860582546]\n"
          ]
        }
      ]
    },
    {
      "cell_type": "markdown",
      "source": [
        "* Os valores de aptidão são deletados porque não estão mais relacionados ao indivíduo.\n",
        "\n",
        "* A mutação não é responsável por invalidar a aptidão."
      ],
      "metadata": {
        "id": "Cx6tfZ5yKiAG"
      }
    },
    {
      "cell_type": "markdown",
      "source": [
        "## Crossover"
      ],
      "metadata": {
        "id": "nqA4Lme9K2I6"
      }
    },
    {
      "cell_type": "markdown",
      "source": [
        "![image](https://d3i71xaburhd42.cloudfront.net/73a50124700c7b2e44e3a72a298f6279a8b54ac3/13-Figure2-1.png)"
      ],
      "metadata": {
        "id": "lfh_Bhkadog9"
      }
    },
    {
      "cell_type": "markdown",
      "source": [
        "* Existem diversos operadores de crossover na [documentação](https://deap.readthedocs.io/en/master/api/tools.html#module-deap.tools).\n",
        "\n",
        "* A regra geral para operadores de crossover é que eles apenas cruzam indivíduos.\n",
        "\n",
        "* Cópias independentes devem ser feitas antes de cruzar os indivíduos originais se os indivíduos originais precisarem ser mantidos.\n",
        "\n",
        "* Abaixo aplicamos uma operação de crossover para produzir os dois filhos que são clonados antecipadamente."
      ],
      "metadata": {
        "id": "F5Odr9XxLpZH"
      }
    },
    {
      "cell_type": "code",
      "source": [
        "individual1, individual2 = toolbox.individual(), toolbox.individual()\n",
        "\n",
        "print(individual1)\n",
        "print(individual2)\n",
        "\n",
        "child1, child2 = [toolbox.clone(ind) for ind in (individual1, individual2)]\n",
        "tools.cxOnePoint(child1, child2)\n",
        "\n",
        "del child1.fitness.values\n",
        "del child2.fitness.values\n",
        "\n",
        "print(child1)\n",
        "print(child2)"
      ],
      "metadata": {
        "colab": {
          "base_uri": "https://localhost:8080/"
        },
        "id": "EXxoV3pDJefy",
        "outputId": "8f6f14b0-a0e8-4bd9-882e-ca419ca47239"
      },
      "execution_count": 73,
      "outputs": [
        {
          "output_type": "stream",
          "name": "stdout",
          "text": [
            "[0.6508041489349233, 0.06702620477503418, 0.31640567621083016, 0.14047941136098874, 0.5224944725571626, 0.5922873414896651, 0.9345151255792221, 0.32295755415709726, 0.6342431513042546, 0.761035645656321]\n",
            "[0.9222147777672254, 0.05637798244370307, 0.13751778476461252, 0.9170170402098936, 0.6629823476728732, 0.5627790786407588, 0.5829751219937128, 0.13914019232803188, 0.006004207396274164, 0.3565869578335341]\n",
            "[0.6508041489349233, 0.06702620477503418, 0.31640567621083016, 0.9170170402098936, 0.6629823476728732, 0.5627790786407588, 0.5829751219937128, 0.13914019232803188, 0.006004207396274164, 0.3565869578335341]\n",
            "[0.9222147777672254, 0.05637798244370307, 0.13751778476461252, 0.14047941136098874, 0.5224944725571626, 0.5922873414896651, 0.9345151255792221, 0.32295755415709726, 0.6342431513042546, 0.761035645656321]\n"
          ]
        }
      ]
    },
    {
      "cell_type": "markdown",
      "source": [
        "## Seleção"
      ],
      "metadata": {
        "id": "VF-rTqnHMdat"
      }
    },
    {
      "cell_type": "markdown",
      "source": [
        "![image](https://miro.medium.com/v2/resize:fit:720/format:webp/1*Vxs3KzHbOpyEREA2Vo0WVA.jpeg)"
      ],
      "metadata": {
        "id": "WyM1y76zel6j"
      }
    },
    {
      "cell_type": "markdown",
      "source": [
        "* A seleção é feita entre uma população.\n",
        "\n",
        "* Vários operadores de seleção estão disponíveis no módulo `deap.tools`.\n",
        "\n",
        "* Ele retorna uma lista contendo as referências para os indivíduos selecionados."
      ],
      "metadata": {
        "id": "IzZzppF7NMnZ"
      }
    },
    {
      "cell_type": "code",
      "source": [
        "selected = tools.selBest([child1, child2], 1)\n",
        "print(child1 in selected)\n",
        "print(child2 in selected)"
      ],
      "metadata": {
        "colab": {
          "base_uri": "https://localhost:8080/"
        },
        "id": "g31v01BVMfiz",
        "outputId": "f548389a-090d-4a08-ddaf-2c05a6cf20d7"
      },
      "execution_count": 74,
      "outputs": [
        {
          "output_type": "stream",
          "name": "stdout",
          "text": [
            "True\n",
            "False\n"
          ]
        }
      ]
    },
    {
      "cell_type": "markdown",
      "source": [
        "* Normalmente, uma duplicação da população inteira é feita após a seleção."
      ],
      "metadata": {
        "id": "GK6LZTl-N5lR"
      }
    },
    {
      "cell_type": "code",
      "source": [
        "offspring = [toolbox.clone(ind) for ind in selected]"
      ],
      "metadata": {
        "id": "S6oaSjjgOBh2"
      },
      "execution_count": 75,
      "outputs": []
    },
    {
      "cell_type": "markdown",
      "source": [
        "## Toolbox and Algorithms"
      ],
      "metadata": {
        "id": "-pBxvN3XJnn_"
      }
    },
    {
      "cell_type": "markdown",
      "source": [
        "* Definindo objetivo e indivíduos:"
      ],
      "metadata": {
        "id": "v_LYoa1IQuHG"
      }
    },
    {
      "cell_type": "code",
      "source": [
        "creator.create(\"FitnessMax\", base.Fitness, weights=(-1.0,))\n",
        "creator.create(\"Individual\", list, fitness=creator.FitnessMax)\n",
        "\n",
        "INDIVIDUAL_SIZE = 10\n",
        "\n",
        "toolbox = base.Toolbox()\n",
        "\n",
        "toolbox.register(\"attr_float\", random.random)\n",
        "toolbox.register(\"individual\",\n",
        "                 tools.initRepeat,\n",
        "                 creator.Individual,\n",
        "                 toolbox.attr_float,\n",
        "                 n=INDIVIDUAL_SIZE)"
      ],
      "metadata": {
        "id": "7mAzrIcAMvo7"
      },
      "execution_count": 76,
      "outputs": []
    },
    {
      "cell_type": "markdown",
      "source": [
        "* Definindo avaliação e registrando operadores genéticos:"
      ],
      "metadata": {
        "id": "RP8VdfykQ09H"
      }
    },
    {
      "cell_type": "code",
      "source": [
        "def evaluateInd(individual):\n",
        "    return (sum(individual),)\n",
        "\n",
        "toolbox.register(\"mate\", tools.cxTwoPoint)\n",
        "toolbox.register(\"mutate\", tools.mutGaussian, mu=0, sigma=1, indpb=0.2)\n",
        "toolbox.register(\"select\", tools.selTournament, tournsize=3)\n",
        "toolbox.register(\"evaluate\", evaluateInd)\n",
        "\n",
        "toolbox.register(\"population\", tools.initRepeat, list, toolbox.individual)"
      ],
      "metadata": {
        "id": "YOhTnuOWOE_n"
      },
      "execution_count": 77,
      "outputs": []
    },
    {
      "cell_type": "markdown",
      "source": [
        "* Loop básico do algoritmo genético:"
      ],
      "metadata": {
        "id": "68aZmoU-Q58O"
      }
    },
    {
      "cell_type": "code",
      "source": [
        "GENERATION_AMOUNT = 10\n",
        "CROSSOVER_PROBABILITY = 0.5\n",
        "MUTATION_PROBABILITY = 0.02\n",
        "\n",
        "pop = toolbox.population(n=300)\n",
        "\n",
        "for g in range(GENERATION_AMOUNT):\n",
        "    offspring = toolbox.select(pop, len(pop))\n",
        "\n",
        "    offspring = list(map(toolbox.clone, offspring))\n",
        "\n",
        "    for child1, child2 in zip(offspring[::2], offspring[1::2]):\n",
        "        if random.random() < CROSSOVER_PROBABILITY:\n",
        "            toolbox.mate(child1, child2)\n",
        "            del child1.fitness.values\n",
        "            del child2.fitness.values\n",
        "\n",
        "    for mutant in offspring:\n",
        "        if random.random() < MUTATION_PROBABILITY:\n",
        "            toolbox.mutate(mutant)\n",
        "            del mutant.fitness.values\n",
        "\n",
        "    invalid_ind = [ind for ind in offspring if not ind.fitness.valid]\n",
        "    fitnesses = list(toolbox.map(toolbox.evaluate, invalid_ind))\n",
        "    for ind, fit in zip(invalid_ind, fitnesses):\n",
        "        ind.fitness.values = fit\n",
        "\n",
        "    fitnesses_values = list(map(lambda x: x[0], fitnesses))\n",
        "    generation_average_fitness = sum(fitnesses_values) / len(fitnesses_values)\n",
        "    print(f\"Generation fitness: {generation_average_fitness:6.5f}\")\n",
        "\n",
        "    pop[:] = offspring"
      ],
      "metadata": {
        "id": "afuQoCFDhrcC",
        "colab": {
          "base_uri": "https://localhost:8080/"
        },
        "outputId": "890da916-9b0d-4b8d-94cc-c89caa47efa4"
      },
      "execution_count": 78,
      "outputs": [
        {
          "output_type": "stream",
          "name": "stdout",
          "text": [
            "Generation fitness: 4.99599\n",
            "Generation fitness: 4.14239\n",
            "Generation fitness: 3.61467\n",
            "Generation fitness: 3.07519\n",
            "Generation fitness: 2.51155\n",
            "Generation fitness: 1.74010\n",
            "Generation fitness: 0.82729\n",
            "Generation fitness: -0.16071\n",
            "Generation fitness: -1.18370\n",
            "Generation fitness: -2.12927\n"
          ]
        }
      ]
    },
    {
      "cell_type": "markdown",
      "source": [
        "* Uma variação disso é usar `algorithms.varAnd`, que abstrai os operadores de variabilidade:"
      ],
      "metadata": {
        "id": "CjpzvmYhRryU"
      }
    },
    {
      "cell_type": "code",
      "source": [
        "from deap import algorithms\n",
        "\n",
        "GENERATION_AMOUNT = 10\n",
        "CROSSOVER_PROBABILITY = 0.5\n",
        "MUTATION_PROBABILITY = 0.02\n",
        "\n",
        "pop = toolbox.population(n=300)\n",
        "\n",
        "for g in range(GENERATION_AMOUNT):\n",
        "    offspring = map(toolbox.clone, toolbox.select(pop, len(pop)))\n",
        "\n",
        "    offspring = algorithms.varAnd(offspring,\n",
        "                                  toolbox,\n",
        "                                  CROSSOVER_PROBABILITY,\n",
        "                                  MUTATION_PROBABILITY)\n",
        "\n",
        "    invalid_ind = [ind for ind in offspring if not ind.fitness.valid]\n",
        "    fitnesses = list(toolbox.map(toolbox.evaluate, invalid_ind))\n",
        "    for ind, fit in zip(invalid_ind, fitnesses):\n",
        "        ind.fitness.values = fit\n",
        "\n",
        "    fitnesses_values = list(map(lambda x: x[0], fitnesses))\n",
        "    generation_average_fitness = sum(fitnesses_values) / len(fitnesses_values)\n",
        "    print(f\"Generation fitness: {generation_average_fitness:6.5f}\")\n",
        "\n",
        "    pop[:] = offspring"
      ],
      "metadata": {
        "id": "B_2WAaQzht02",
        "colab": {
          "base_uri": "https://localhost:8080/"
        },
        "outputId": "6c791e85-88ef-453f-b247-86f9b7dbd6c4"
      },
      "execution_count": 79,
      "outputs": [
        {
          "output_type": "stream",
          "name": "stdout",
          "text": [
            "Generation fitness: 4.99208\n",
            "Generation fitness: 4.25655\n",
            "Generation fitness: 3.65933\n",
            "Generation fitness: 3.17280\n",
            "Generation fitness: 2.67435\n",
            "Generation fitness: 2.35940\n",
            "Generation fitness: 1.77905\n",
            "Generation fitness: 1.12088\n",
            "Generation fitness: 0.34552\n",
            "Generation fitness: -0.56298\n"
          ]
        }
      ]
    },
    {
      "cell_type": "markdown",
      "source": [
        "* Podemos simplificar ainda mais usando `algorithms.eaSimple`:"
      ],
      "metadata": {
        "id": "Uw6KxCpjSPnX"
      }
    },
    {
      "cell_type": "code",
      "source": [
        "pop = toolbox.population(n=300)\n",
        "population, logbook = algorithms.eaSimple(pop, toolbox, cxpb=0.5, mutpb=0.2, ngen=10)"
      ],
      "metadata": {
        "id": "beeEyZGBhvqx",
        "colab": {
          "base_uri": "https://localhost:8080/"
        },
        "outputId": "10924f93-454c-41ad-df6d-b042042ae127"
      },
      "execution_count": 80,
      "outputs": [
        {
          "output_type": "stream",
          "name": "stdout",
          "text": [
            "gen\tnevals\n",
            "0  \t300   \n",
            "1  \t180   \n",
            "2  \t176   \n",
            "3  \t169   \n",
            "4  \t179   \n",
            "5  \t188   \n",
            "6  \t160   \n",
            "7  \t171   \n",
            "8  \t197   \n",
            "9  \t189   \n",
            "10 \t165   \n"
          ]
        }
      ]
    },
    {
      "cell_type": "markdown",
      "source": [
        "* Note que tais abstrações nos dão menos liberdade para registrar a aptidão das gerações.\n",
        "\n",
        "* Neste formato, precisamos definir uma estatística e registrar métricas para salvar no logbook.\n",
        "\n",
        "* Consulte a [documentação](https://deap.readthedocs.io/en/master/_modules/deap/algorithms.html#eaSimple)."
      ],
      "metadata": {
        "id": "fjQF70opUR9j"
      }
    },
    {
      "cell_type": "code",
      "source": [
        "stats = tools.Statistics(key=lambda fits: fits[0])\n",
        "stats.register(\"avg\", lambda fits: sum(fits) / len(fits))\n",
        "\n",
        "logbook = tools.Logbook()\n",
        "\n",
        "pop = toolbox.population(n=300)\n",
        "population, logbook = algorithms.eaSimple(population, toolbox, cxpb=0.5, mutpb=0.2, ngen=10,\n",
        "                                          stats=stats, halloffame=None, verbose=True)"
      ],
      "metadata": {
        "colab": {
          "base_uri": "https://localhost:8080/"
        },
        "id": "tPLEQof6S9up",
        "outputId": "8581ab21-8105-47fe-cda3-040386a2e92b"
      },
      "execution_count": 81,
      "outputs": [
        {
          "output_type": "stream",
          "name": "stdout",
          "text": [
            "gen\tnevals\tavg      \n",
            "0  \t0     \t-0.754129\n",
            "1  \t177   \t-0.914002\n",
            "2  \t168   \t-1.30761 \n",
            "3  \t169   \t-1.59321 \n",
            "4  \t182   \t-1.95561 \n",
            "5  \t161   \t-2.32205 \n",
            "6  \t176   \t-2.42998 \n",
            "7  \t157   \t-2.62994 \n",
            "8  \t178   \t-2.94773 \n",
            "9  \t193   \t-3.1888  \n",
            "10 \t180   \t-3.37273 \n"
          ]
        }
      ]
    },
    {
      "cell_type": "markdown",
      "source": [
        "## Exemplo de Problema Prático"
      ],
      "metadata": {
        "id": "yEjr3G76ckpi"
      }
    },
    {
      "cell_type": "markdown",
      "source": [
        "Vamos projetar um algoritmo genético para resolver uma instância do Problema do Caixeiro Viajante (Traveling Salesman Problem - TSP).\n",
        "\n",
        "As coordenadas das cidades são: (0, 0), (1, 1), (2, 0), (1, -1)."
      ],
      "metadata": {
        "id": "H8UNSW_3eEQ0"
      }
    },
    {
      "cell_type": "code",
      "source": [
        "import matplotlib.pyplot as plt\n",
        "\n",
        "cities = [(0, 0), (1, 1), (2, 0), (1, -1)]\n",
        "\n",
        "x_coords, y_coords = zip(*cities)\n",
        "\n",
        "plt.figure(figsize=(6, 6))\n",
        "plt.scatter(x_coords, y_coords, color=\"red\")\n",
        "\n",
        "for i, (x, y) in enumerate(cities):\n",
        "    plt.annotate(f\"{i}\", (x, y), textcoords=\"offset points\", xytext=(0,10), ha=\"center\")\n",
        "\n",
        "plt.xlabel(\"X Coordinate\")\n",
        "plt.ylabel(\"Y Coordinate\")\n",
        "plt.title(\"Cities for TSP\")\n",
        "\n",
        "plt.grid(True)\n",
        "plt.show()"
      ],
      "metadata": {
        "colab": {
          "base_uri": "https://localhost:8080/",
          "height": 564
        },
        "id": "Lm30E_Ofe30C",
        "outputId": "5f444321-a7d6-46c7-d365-b116bc2f2fe3"
      },
      "execution_count": 82,
      "outputs": [
        {
          "output_type": "display_data",
          "data": {
            "text/plain": [
              "<Figure size 600x600 with 1 Axes>"
            ],
            "image/png": "[encoded data removed]"
          },
          "metadata": {}
        }
      ]
    },
    {
      "cell_type": "markdown",
      "source": [
        "Antes de ler sobre a solução, como você modelaria os atributos do indivíduo para este problema?"
      ],
      "metadata": {
        "id": "SpT-a2Qyga5x"
      }
    },
    {
      "cell_type": "markdown",
      "source": [
        "### Solução"
      ],
      "metadata": {
        "id": "cO51A0ZFgYBP"
      }
    },
    {
      "cell_type": "markdown",
      "source": [
        "* Definimos a instância do problema usando as coordenadas das cidades.\n",
        "\n",
        "* Definimos o cálculo da distância.\n",
        "\n",
        "* Projetamos a função de avaliação que itera sobre as cidades e calcula suas distâncias.\n",
        "\n",
        "* Definimos os indivíduos e os operadores genéticos. Aqui, nossos indivíduos são sequências de cidades.\n",
        "\n",
        "* Rodamos o algoritmo genético."
      ],
      "metadata": {
        "id": "psuqhydTf0J3"
      }
    },
    {
      "cell_type": "code",
      "source": [
        "import random\n",
        "import numpy as np\n",
        "from deap import base, creator, tools, algorithms\n",
        "\n",
        "cities = [(0, 0), (1, 1), (2, 0), (1, -1)]\n",
        "\n",
        "def distance(city1, city2):\n",
        "    return np.sqrt((city1[0] - city2[0])**2 + (city1[1] - city2[1])**2)\n",
        "\n",
        "def evalTSP(individual):\n",
        "    total_distance = sum(distance(cities[individual[i]], cities[individual[i + 1]]) for i in range(len(individual) - 1))\n",
        "    total_distance += distance(cities[individual[-1]], cities[individual[0]])  # Return to start\n",
        "    return (total_distance,)\n",
        "\n",
        "creator.create(\"FitnessMin\", base.Fitness, weights=(-1.0,))\n",
        "creator.create(\"Individual\", list, fitness=creator.FitnessMin)\n",
        "\n",
        "toolbox = base.Toolbox()\n",
        "toolbox.register(\"indices\", random.sample, range(len(cities)), len(cities))\n",
        "toolbox.register(\"individual\", tools.initIterate, creator.Individual, toolbox.indices)\n",
        "toolbox.register(\"population\", tools.initRepeat, list, toolbox.individual)\n",
        "\n",
        "toolbox.register(\"evaluate\", evalTSP)\n",
        "toolbox.register(\"mate\", tools.cxOrdered)\n",
        "toolbox.register(\"mutate\", tools.mutShuffleIndexes, indpb=0.05)\n",
        "toolbox.register(\"select\", tools.selTournament, tournsize=3)\n",
        "\n",
        "population = toolbox.population(n=50)\n",
        "\n",
        "algorithms.eaSimple(population, toolbox, cxpb=0.7, mutpb=0.2, ngen=100, verbose=False)\n",
        "\n",
        "best_ind = tools.selBest(population, 1)[0]\n",
        "best_route = [cities[i] for i in best_ind]\n",
        "\n",
        "print(f\"Best route is {best_route} with total distance {best_ind.fitness.values[0]}\")"
      ],
      "metadata": {
        "colab": {
          "base_uri": "https://localhost:8080/"
        },
        "id": "skKjT-61ePXI",
        "outputId": "3148a530-28db-4afe-ecdd-28207a8c1486"
      },
      "execution_count": 83,
      "outputs": [
        {
          "output_type": "stream",
          "name": "stdout",
          "text": [
            "Best route is [(1, -1), (2, 0), (1, 1), (0, 0)] with total distance 5.656854249492381\n"
          ]
        }
      ]
    },
    {
      "cell_type": "markdown",
      "source": [
        "# Exercícios\n",
        "---"
      ],
      "metadata": {
        "id": "JLIVybtiWia1"
      }
    },
    {
      "cell_type": "markdown",
      "source": [
        "Abaixo você pode encontrar alguns exercícios para praticar o uso do framework."
      ],
      "metadata": {
        "id": "BVOyZ7PQZcEY"
      }
    },
    {
      "cell_type": "markdown",
      "source": [
        "## Exercício 1"
      ],
      "metadata": {
        "id": "0JkczGqtZW4J"
      }
    },
    {
      "cell_type": "markdown",
      "source": [
        "No contexto dos exemplos acima, considere o seguinte:\n",
        "* A aptidão é a soma dos atributos do indivíduo.\n",
        "* Seus atributos são instanciados por `random.random()`.\n",
        "* `random.random()` não retorna números negativos.\n",
        "\n",
        "Como as médias de aptidão das gerações podem ser valores negativos?"
      ],
      "metadata": {
        "id": "MvMltQU7ZqQu"
      }
    },
    {
      "cell_type": "code",
      "source": [
        "all([random.random() > 0 for i in range(10_000)])"
      ],
      "metadata": {
        "colab": {
          "base_uri": "https://localhost:8080/"
        },
        "id": "ASORtcJhThXQ",
        "outputId": "6aa63ea4-8029-4890-de63-dac57d5d0ee5"
      },
      "execution_count": 84,
      "outputs": [
        {
          "output_type": "execute_result",
          "data": {
            "text/plain": [
              "True"
            ]
          },
          "metadata": {},
          "execution_count": 84
        }
      ]
    },
    {
      "cell_type": "markdown",
      "source": [
        "\n",
        "\n",
        "*   Fit\n",
        "*   Seleção\n",
        "*   Recombinação\n",
        "*   Mutação (pode gerar número negativo)\n",
        "\n",
        "\n",
        "\n",
        "\n",
        "```\n",
        "1  |  3  |  5  |  7\n",
        "8  |  6  |  8  |  5\n",
        "\n",
        "1  |  3  |  2  |  -4\n",
        "8  |  -6 |  5  |  4\n",
        "\n",
        "1  |  3  |  5  |  7\n",
        "8  |  -6 |  8  |  -4\n",
        "```\n",
        "\n",
        "\n",
        "No código está sendo utilizado tools.mutGaussian, o que indica que a mutação segue uma distribuição normal (Gaussiana) com média zero e desvio padrão um. Isso pode gerar valores negativos.\n",
        "Em vez de usar uma distribuição normal, pode se optar por um outro tipo de mutação que nunca gere valores negativos. Como criar uma função de mutação que substitui o valor de um gene por um novo valor aleatório dentro de um intervalo específico\n",
        "\n",
        "Vale ressaltar que isso só acontece porque está se usando uma função de minização, já que o objetivo do problema é minimizar o valor da função de aptidão. Isso pode levar a situações onde, se a mutação ou outras operações resultam em valores negativos, eles são interpretados como uma melhoria na aptidão, pois são menores do que os valores positivos."
      ],
      "metadata": {
        "id": "jgV6UFs2-pVd"
      }
    },
    {
      "cell_type": "markdown",
      "source": [
        "## Exercício 2"
      ],
      "metadata": {
        "id": "ur4KqgCBathi"
      }
    },
    {
      "cell_type": "markdown",
      "source": [
        "Crie um algoritmo genético para resolver o seguinte problema:\n",
        "\n",
        "Os indivíduos devem ser permutações dos números [0,1,2,3,4,5,6,7,8,9]. A função objetivo é contar quantos números estão na posição correta (ordem crescente)."
      ],
      "metadata": {
        "id": "29eHOkl9awLj"
      }
    },
    {
      "cell_type": "code",
      "source": [
        "numeros = [0, 1, 2, 3, 4, 5, 6, 7, 8, 9]"
      ],
      "metadata": {
        "id": "rl6nZgEpamyA"
      },
      "execution_count": 85,
      "outputs": []
    },
    {
      "cell_type": "code",
      "source": [
        "def evalPermutacao(individual):\n",
        "  posicoesCorretas = 0\n",
        "  i = 0\n",
        "  for num in individual:\n",
        "    if i == num:\n",
        "      posicoesCorretas += 1\n",
        "    i += 1\n",
        "  return (posicoesCorretas,)"
      ],
      "metadata": {
        "id": "2-WivS145ZjP"
      },
      "execution_count": 86,
      "outputs": []
    },
    {
      "cell_type": "code",
      "source": [
        "creator.create(\"FitnessMax\", base.Fitness, weights=(1.0,))\n",
        "creator.create(\"Individual\", list, fitness=creator.FitnessMax)\n",
        "\n",
        "toolbox = base.Toolbox()\n",
        "toolbox.register(\"indices\", random.sample, range(len(numeros)), len(numeros))\n",
        "toolbox.register(\"individual\", tools.initIterate, creator.Individual, toolbox.indices)\n",
        "toolbox.register(\"population\", tools.initRepeat, list, toolbox.individual)\n",
        "\n",
        "toolbox.register(\"evaluate\", evalPermutacao)\n",
        "toolbox.register(\"mate\", tools.cxOrdered)\n",
        "toolbox.register(\"mutate\", tools.mutShuffleIndexes, indpb=0.05)\n",
        "toolbox.register(\"select\", tools.selTournament, tournsize=3)\n",
        "\n",
        "population = toolbox.population(n=50)\n",
        "\n",
        "algorithms.eaSimple(population, toolbox, cxpb=0.7, mutpb=0.2, ngen=100, verbose=False)\n",
        "\n",
        "best_ind = tools.selBest(population, 1)[0]\n",
        "best_permutacao = [numeros[i] for i in best_ind]\n",
        "\n",
        "print(f\"Melhor permutação é {best_permutacao}: {best_ind.fitness.values[0]}\")"
      ],
      "metadata": {
        "colab": {
          "base_uri": "https://localhost:8080/"
        },
        "id": "Nmu7taqw5f77",
        "outputId": "b781e06d-dc45-428e-f206-7554ebf9cef5"
      },
      "execution_count": 87,
      "outputs": [
        {
          "output_type": "stream",
          "name": "stdout",
          "text": [
            "Melhor permutação é [0, 1, 2, 3, 4, 5, 6, 7, 8, 9]: 10.0\n"
          ]
        }
      ]
    },
    {
      "cell_type": "markdown",
      "source": [
        "## Exercício 3"
      ],
      "metadata": {
        "id": "IyvBwNNob4bg"
      }
    },
    {
      "cell_type": "markdown",
      "source": [
        "Crie um algoritmo genético para resolver o seguinte problema:\n",
        "\n",
        "Maximize a função `𝑓(𝑥,𝑦) = 𝑥 ⋅ 𝑦`, onde `x` e `y` são números de ponto flutuante no intervalo [0, 10].\n",
        "\n",
        "Use diferentes operadores genéticos (seleção, crossover, mutação) dos utilizados nos exercícios anteriores."
      ],
      "metadata": {
        "id": "YIo6nFZ9b9if"
      }
    },
    {
      "cell_type": "code",
      "source": [
        "def evalFunc(individual):\n",
        "    x, y = individual\n",
        "    return (x * y,)"
      ],
      "metadata": {
        "id": "W5NvVAiZb8SF"
      },
      "execution_count": 88,
      "outputs": []
    },
    {
      "cell_type": "code",
      "source": [
        "creator.create(\"FitnessMax\", base.Fitness, weights=(1.0,))\n",
        "creator.create(\"Individual\", list, fitness=creator.FitnessMax)\n",
        "\n",
        "toolbox = base.Toolbox()\n",
        "toolbox.register(\"attr_float\", random.uniform, 0, 10)\n",
        "toolbox.register(\"individual\", tools.initCycle, creator.Individual, (toolbox.attr_float, toolbox.attr_float))\n",
        "toolbox.register(\"population\", tools.initRepeat, list, toolbox.individual)\n",
        "\n",
        "toolbox.register(\"evaluate\", evalFunc)\n",
        "\n",
        "def cxBlendModificado(ind1, ind2, alpha): #https://deap.readthedocs.io/en/master/_modules/deap/tools/crossover.html#cxBlend\n",
        "    for i, (x1, x2) in enumerate(zip(ind1, ind2)):\n",
        "        gamma = (1. + 2. * alpha) * random.random() - alpha\n",
        "        ind1[i] = (1. - gamma) * x1 + gamma * x2\n",
        "        ind2[i] = gamma * x1 + (1. - gamma) * x2\n",
        "        ind1[i] = min(max(ind1[i], 0.0), 10.0)\n",
        "        ind2[i] = min(max(ind2[i], 0.0), 10.0)\n",
        "    return ind1, ind2\n",
        "\n",
        "toolbox.register(\"mate\", cxBlendModificado, alpha=0.5)  # Crossover para indivíduos de números de ponto flutuante\n",
        "toolbox.register(\"mutate\", tools.mutPolynomialBounded, low=0, up=10, eta=1.0, indpb=0.2)  # Mutação Gaussiana espera uma sequência composta de atributos com valor real\n",
        "toolbox.register(\"select\", tools.selRoulette)  # Seleção por Roleta\n",
        "\n",
        "population = toolbox.population(n=50)\n",
        "print(population)\n",
        "\n",
        "algorithms.eaSimple(population, toolbox, cxpb=0.7, mutpb=0.2, ngen=100, verbose=False)\n",
        "\n",
        "best_ind = tools.selBest(population, 1)[0]\n",
        "print(f\"Melhor individuo é {best_ind}: {best_ind.fitness.values[0]}\")\n"
      ],
      "metadata": {
        "colab": {
          "base_uri": "https://localhost:8080/"
        },
        "id": "aCC_almXGi2Q",
        "outputId": "2c866d2a-5fc5-4f7b-bf8b-e269fea70614"
      },
      "execution_count": 89,
      "outputs": [
        {
          "output_type": "stream",
          "name": "stdout",
          "text": [
            "[[6.187462404186355, 3.434471314424435], [7.817909158184948, 0.18497960199253316], [5.3387570428149225, 2.822086742444382], [9.56969478852661, 0.32290723723263026], [3.679289555039067, 6.203797534360066], [1.010376050745606, 1.4225644812514515], [5.361525077623225, 3.5174897297555594], [2.252567887514836, 8.968711070801684], [2.8169830580366884, 7.906279172639371], [3.09237267457363, 4.723492446826505], [8.039670929524359, 6.650465469317977], [7.192390934726118, 7.906076333380253], [8.579726652530345, 4.645284724915247], [8.354785083474622, 8.575412942626983], [8.522248629076866, 2.5968197390969214], [0.20676983299815266, 3.929715147755589], [3.2881865095894836, 5.590104775518792], [9.651508053918171, 7.417998597463496], [2.8946190454675556, 7.440109366931527], [9.929101986630561, 6.602362930750417], [3.8582159613974474, 5.426249611472347], [2.3806635554473345, 7.54213505300267], [9.610133052132854, 3.6254552237249382], [1.3387741633120964, 6.6734024141824175], [3.318526121452605, 2.0682050515107875], [9.827946568272198, 1.6700399318150572], [4.678368650383314, 1.8403470601756555], [7.057736427773823, 6.532106229243545], [3.7907769466040153, 9.122564105958736], [1.9597101352046054, 0.37033649224116116], [7.711688594995028, 1.2988717884396306], [0.747595917167434, 6.633874777123693], [0.6870121573833587, 2.529800017049866], [4.785739779495759, 4.390812872606058], [7.412338426298022, 6.5932581341182495], [4.454690073166318, 5.441120555067494], [2.6287795772776654, 4.829781401278163], [8.282087614900956, 3.4565800959958013], [6.4470013492275635, 8.76692053773183], [8.825668961097884, 5.285932474295447], [1.1858482582784635, 6.326813425839687], [0.403667666277604, 1.576315691182285], [2.3027646410813496, 1.4409106288876183], [0.37080707486310094, 2.045442926278004], [3.2880512346503945, 9.743759598256563], [8.643297621957437, 2.234822036198645], [8.590005263724953, 9.792684222176803], [4.565508729637862, 0.6169083965575528], [4.1682610602190495, 7.722959994414112], [1.2174196368577284, 3.754383861238729]]\n",
            "Melhor individuo é [9.92571605038537, 10.0]: 99.2571605038537\n"
          ]
        }
      ]
    },
    {
      "cell_type": "markdown",
      "source": [
        "## Exercício 4"
      ],
      "metadata": {
        "id": "YbOyZpK_hUp8"
      }
    },
    {
      "cell_type": "markdown",
      "source": [
        "Crie um algoritmo genético multi-objetivo para resolver o seguinte problema:\n",
        "\n",
        "Os indivíduos devem ser uma lista de `20` números de ponto flutuante no intervalo `[0,1]`.\n",
        "\n",
        "Minimize a soma dos índices pares enquanto maximiza a soma dos índices ímpares nesta lista. Minimizar os índices pares é duas vezes mais importante do que minimizar os índices ímpares.\n",
        "\n",
        "Use diferentes operadores genéticos (seleção, crossover, mutação) dos utilizados nos exercícios anteriores."
      ],
      "metadata": {
        "id": "Yoei94_3heQq"
      }
    },
    {
      "cell_type": "code",
      "source": [
        "def evalFunc(individual):\n",
        "    sum_pares = 0\n",
        "    sum_impares = 0\n",
        "    i = 0\n",
        "    for num in individual:\n",
        "        if i % 2 == 0:\n",
        "            sum_pares += num\n",
        "        else:\n",
        "            sum_impares += num\n",
        "        i += 1\n",
        "    return (sum_pares, sum_impares)"
      ],
      "metadata": {
        "id": "9nmcELCGCH69"
      },
      "execution_count": 90,
      "outputs": []
    },
    {
      "cell_type": "code",
      "source": [
        "creator.create(\"FitnessMulti\", base.Fitness, weights=(-2.0,1.0))\n",
        "creator.create(\"Individual\", list, fitness=creator.FitnessMulti)\n",
        "\n",
        "toolbox = base.Toolbox()\n",
        "toolbox.register(\"attr_float\", random.random)\n",
        "toolbox.register(\"individual\", tools.initRepeat, creator.Individual, toolbox.attr_float, n=20)\n",
        "toolbox.register(\"population\", tools.initRepeat, list, toolbox.individual)\n",
        "\n",
        "toolbox.register(\"evaluate\", evalFunc)\n",
        "toolbox.register(\"mate\", tools.cxTwoPoints)\n",
        "toolbox.register(\"mutate\", tools.mutPolynomialBounded, low=0, up=1, eta=1.0, indpb=0.2)\n",
        "toolbox.register(\"select\", tools.selNSGA2)\n",
        "\n",
        "population = toolbox.population(n=50)\n",
        "\n",
        "algorithms.eaSimple(population, toolbox, cxpb=0.7, mutpb=0.2, ngen=1000, verbose=False)\n",
        "\n",
        "best_ind = tools.selBest(population, 1)[0]\n",
        "print(f\"Melhor indivíduo é {best_ind}\")\n",
        "print(f\"Fitness da minimização dos índices pares: {best_ind.fitness.values[0]}\")\n",
        "print(f\"Fitness da maximização dos índices ímpares: {best_ind.fitness.values[1]}\")\n"
      ],
      "metadata": {
        "id": "b2eDI6BEhVuZ",
        "colab": {
          "base_uri": "https://localhost:8080/"
        },
        "outputId": "060381f4-6db0-4fae-a291-e6a56bb2ff7a"
      },
      "execution_count": 91,
      "outputs": [
        {
          "output_type": "stream",
          "name": "stderr",
          "text": [
            "/usr/local/lib/python3.10/dist-packages/deap/tools/crossover.py:67: FutureWarning: tools.cxTwoPoints has been renamed. Use cxTwoPoint instead.\n",
            "  warnings.warn(\"tools.cxTwoPoints has been renamed. Use cxTwoPoint instead.\",\n"
          ]
        },
        {
          "output_type": "stream",
          "name": "stdout",
          "text": [
            "Melhor indivíduo é [0.0014583535044585538, 0.9998841234383389, 0.0011327643570929746, 0.995479460522226, 0.02168350980517153, 0.03875450049368889, 0.35449005030348546, 0.8618207183771623, 0.00058227045773529, 0.0528312423752092, 0.015349555811806082, 0.9195199147872858, 0.17944291395206313, 0.7594949820972294, 0.5260933692010464, 0.6314589000789373, 0.30346530481992984, 0.37686601879611425, 0.21033134864074055, 0.24983181841593094]\n",
            "Fitness da minimização dos índices pares: 1.6140294408535298\n",
            "Fitness da maximização dos índices ímpares: 5.885941679382123\n"
          ]
        }
      ]
    },
    {
      "cell_type": "markdown",
      "source": [
        "## Exercício 5"
      ],
      "metadata": {
        "id": "hj6KWHeMkSs-"
      }
    },
    {
      "cell_type": "markdown",
      "source": [
        "Escolha uma das implementações anteriores do algoritmo genético, registre a aptidão média ao longo das gerações e plote em um gráfico."
      ],
      "metadata": {
        "id": "tweRDe-tkXL5"
      }
    },
    {
      "cell_type": "code",
      "source": [
        "def saveStatistics(individual):\n",
        "  return (individual.fitness.values)"
      ],
      "metadata": {
        "id": "PTN9Cw1eIxWD"
      },
      "execution_count": 92,
      "outputs": []
    },
    {
      "cell_type": "code",
      "source": [
        "import matplotlib.pyplot as plt\n",
        "\n",
        "creator.create(\"FitnessMin\", base.Fitness, weights=(-1.0,))\n",
        "creator.create(\"Individual\", list, fitness=creator.FitnessMin)\n",
        "\n",
        "toolbox = base.Toolbox()\n",
        "toolbox.register(\"indices\", random.sample, range(len(cities)), len(cities))\n",
        "toolbox.register(\"individual\", tools.initIterate, creator.Individual, toolbox.indices)\n",
        "toolbox.register(\"population\", tools.initRepeat, list, toolbox.individual)\n",
        "\n",
        "toolbox.register(\"evaluate\", evalTSP)\n",
        "toolbox.register(\"mate\", tools.cxOrdered)\n",
        "toolbox.register(\"mutate\", tools.mutShuffleIndexes, indpb=0.05)\n",
        "toolbox.register(\"select\", tools.selTournament, tournsize=3)\n",
        "\n",
        "population = toolbox.population(n=50)\n",
        "\n",
        "aptidaoMedia = tools.Statistics(saveStatistics)\n",
        "aptidaoMedia.register(\"mean\", np.mean)\n",
        "\n",
        "result, log = algorithms.eaSimple(population, toolbox, cxpb=0.7, mutpb=0.2, ngen=300,  verbose=True, stats=aptidaoMedia)\n",
        "\n",
        "best_ind = tools.selBest(population, 1)[0]\n",
        "best_route = [cities[i] for i in best_ind]\n",
        "\n",
        "print(f\"Best route is {best_route} with total distance {best_ind.fitness.values[0]}\")"
      ],
      "metadata": {
        "id": "Tk4w5HVckVjH",
        "colab": {
          "base_uri": "https://localhost:8080/"
        },
        "outputId": "d5c8a178-e54e-4b97-d516-a0705f434ac6"
      },
      "execution_count": 97,
      "outputs": [
        {
          "output_type": "stream",
          "name": "stdout",
          "text": [
            "gen\tnevals\tmean   \n",
            "0  \t50    \t6.54725\n",
            "1  \t33    \t6.07862\n",
            "2  \t41    \t5.86774\n",
            "3  \t37    \t5.9146 \n",
            "4  \t35    \t5.70372\n",
            "5  \t37    \t5.86774\n",
            "6  \t35    \t5.9146 \n",
            "7  \t45    \t5.89117\n",
            "8  \t35    \t5.79744\n",
            "9  \t42    \t6.05519\n",
            "10 \t35    \t5.86774\n",
            "11 \t40    \t5.9146 \n",
            "12 \t30    \t5.70372\n",
            "13 \t32    \t5.79744\n",
            "14 \t42    \t5.82087\n",
            "15 \t43    \t5.75058\n",
            "16 \t35    \t5.9146 \n",
            "17 \t42    \t6.05519\n",
            "18 \t39    \t5.98489\n",
            "19 \t34    \t5.86774\n",
            "20 \t34    \t5.9146 \n",
            "21 \t38    \t5.82087\n",
            "22 \t40    \t5.84431\n",
            "23 \t29    \t5.70372\n",
            "24 \t34    \t5.77401\n",
            "25 \t33    \t5.89117\n",
            "26 \t35    \t5.79744\n",
            "27 \t46    \t5.84431\n",
            "28 \t43    \t5.72715\n",
            "29 \t37    \t5.70372\n",
            "30 \t36    \t5.70372\n",
            "31 \t37    \t5.75058\n",
            "32 \t40    \t5.77401\n",
            "33 \t31    \t5.75058\n",
            "34 \t36    \t5.89117\n",
            "35 \t41    \t5.72715\n",
            "36 \t34    \t5.70372\n",
            "37 \t38    \t5.72715\n",
            "38 \t43    \t5.86774\n",
            "39 \t37    \t5.72715\n",
            "40 \t42    \t5.72715\n",
            "41 \t36    \t5.70372\n",
            "42 \t39    \t5.68029\n",
            "43 \t40    \t5.70372\n",
            "44 \t38    \t5.68029\n",
            "45 \t38    \t5.68029\n",
            "46 \t41    \t5.68029\n",
            "47 \t34    \t5.72715\n",
            "48 \t27    \t5.65685\n",
            "49 \t33    \t5.65685\n",
            "50 \t38    \t5.82087\n",
            "51 \t34    \t5.68029\n",
            "52 \t31    \t5.65685\n",
            "53 \t45    \t5.68029\n",
            "54 \t44    \t5.65685\n",
            "55 \t45    \t5.72715\n",
            "56 \t34    \t5.70372\n",
            "57 \t39    \t5.68029\n",
            "58 \t32    \t5.68029\n",
            "59 \t34    \t5.65685\n",
            "60 \t29    \t5.68029\n",
            "61 \t40    \t5.75058\n",
            "62 \t41    \t5.65685\n",
            "63 \t34    \t5.68029\n",
            "64 \t41    \t5.70372\n",
            "65 \t39    \t5.72715\n",
            "66 \t37    \t5.68029\n",
            "67 \t40    \t5.70372\n",
            "68 \t36    \t5.65685\n",
            "69 \t39    \t5.75058\n",
            "70 \t41    \t5.77401\n",
            "71 \t40    \t5.68029\n",
            "72 \t35    \t5.65685\n",
            "73 \t39    \t5.68029\n",
            "74 \t42    \t5.68029\n",
            "75 \t36    \t5.68029\n",
            "76 \t40    \t5.68029\n",
            "77 \t29    \t5.70372\n",
            "78 \t43    \t5.75058\n",
            "79 \t35    \t5.72715\n",
            "80 \t36    \t5.70372\n",
            "81 \t38    \t5.72715\n",
            "82 \t33    \t5.77401\n",
            "83 \t43    \t5.86774\n",
            "84 \t42    \t5.75058\n",
            "85 \t37    \t5.65685\n",
            "86 \t41    \t5.75058\n",
            "87 \t38    \t5.77401\n",
            "88 \t31    \t5.75058\n",
            "89 \t44    \t5.68029\n",
            "90 \t48    \t5.70372\n",
            "91 \t36    \t5.72715\n",
            "92 \t39    \t5.70372\n",
            "93 \t45    \t5.75058\n",
            "94 \t39    \t5.65685\n",
            "95 \t38    \t5.72715\n",
            "96 \t42    \t5.75058\n",
            "97 \t40    \t5.75058\n",
            "98 \t43    \t5.68029\n",
            "99 \t38    \t5.75058\n",
            "100\t38    \t5.65685\n",
            "101\t37    \t5.68029\n",
            "102\t44    \t5.70372\n",
            "103\t37    \t5.68029\n",
            "104\t44    \t5.70372\n",
            "105\t41    \t5.65685\n",
            "106\t42    \t5.75058\n",
            "107\t39    \t5.65685\n",
            "108\t29    \t5.68029\n",
            "109\t36    \t5.65685\n",
            "110\t33    \t5.65685\n",
            "111\t33    \t5.72715\n",
            "112\t39    \t5.72715\n",
            "113\t38    \t5.70372\n",
            "114\t41    \t5.70372\n",
            "115\t36    \t5.65685\n",
            "116\t27    \t5.68029\n",
            "117\t36    \t5.68029\n",
            "118\t34    \t5.75058\n",
            "119\t40    \t5.65685\n",
            "120\t39    \t5.70372\n",
            "121\t39    \t5.72715\n",
            "122\t40    \t5.65685\n",
            "123\t36    \t5.68029\n",
            "124\t32    \t5.68029\n",
            "125\t35    \t5.70372\n",
            "126\t34    \t5.68029\n",
            "127\t40    \t5.72715\n",
            "128\t33    \t5.65685\n",
            "129\t39    \t5.65685\n",
            "130\t43    \t5.75058\n",
            "131\t27    \t5.70372\n",
            "132\t36    \t5.70372\n",
            "133\t32    \t5.65685\n",
            "134\t27    \t5.72715\n",
            "135\t46    \t5.93803\n",
            "136\t38    \t5.89117\n",
            "137\t36    \t5.77401\n",
            "138\t37    \t5.84431\n",
            "139\t31    \t5.77401\n",
            "140\t38    \t5.77401\n",
            "141\t43    \t5.79744\n",
            "142\t40    \t5.93803\n",
            "143\t38    \t5.96146\n",
            "144\t43    \t5.77401\n",
            "145\t39    \t5.65685\n",
            "146\t41    \t5.75058\n",
            "147\t39    \t5.82087\n",
            "148\t39    \t5.75058\n",
            "149\t40    \t5.77401\n",
            "150\t35    \t5.77401\n",
            "151\t42    \t5.75058\n",
            "152\t36    \t5.77401\n",
            "153\t39    \t5.68029\n",
            "154\t36    \t5.77401\n",
            "155\t33    \t5.70372\n",
            "156\t34    \t5.82087\n",
            "157\t40    \t5.82087\n",
            "158\t40    \t5.72715\n",
            "159\t40    \t5.82087\n",
            "160\t37    \t5.75058\n",
            "161\t42    \t5.65685\n",
            "162\t37    \t5.86774\n",
            "163\t40    \t5.75058\n",
            "164\t37    \t5.77401\n",
            "165\t39    \t5.82087\n",
            "166\t31    \t5.93803\n",
            "167\t44    \t5.79744\n",
            "168\t40    \t5.96146\n",
            "169\t33    \t5.82087\n",
            "170\t40    \t5.75058\n",
            "171\t45    \t5.82087\n",
            "172\t36    \t5.70372\n",
            "173\t41    \t5.70372\n",
            "174\t40    \t5.75058\n",
            "175\t36    \t5.65685\n",
            "176\t40    \t5.70372\n",
            "177\t36    \t5.65685\n",
            "178\t42    \t5.68029\n",
            "179\t36    \t5.65685\n",
            "180\t37    \t5.70372\n",
            "181\t40    \t5.72715\n",
            "182\t45    \t5.65685\n",
            "183\t45    \t5.68029\n",
            "184\t38    \t5.72715\n",
            "185\t39    \t5.70372\n",
            "186\t44    \t5.68029\n",
            "187\t37    \t5.70372\n",
            "188\t38    \t5.75058\n",
            "189\t39    \t5.68029\n",
            "190\t37    \t5.68029\n",
            "191\t48    \t5.72715\n",
            "192\t39    \t5.68029\n",
            "193\t43    \t5.75058\n",
            "194\t40    \t5.77401\n",
            "195\t40    \t5.75058\n",
            "196\t40    \t5.68029\n",
            "197\t40    \t5.72715\n",
            "198\t36    \t5.79744\n",
            "199\t36    \t5.72715\n",
            "200\t42    \t5.72715\n",
            "201\t41    \t5.68029\n",
            "202\t29    \t5.68029\n",
            "203\t39    \t5.68029\n",
            "204\t36    \t5.65685\n",
            "205\t39    \t5.70372\n",
            "206\t41    \t5.75058\n",
            "207\t35    \t5.72715\n",
            "208\t33    \t5.72715\n",
            "209\t42    \t5.72715\n",
            "210\t40    \t5.72715\n",
            "211\t41    \t5.70372\n",
            "212\t46    \t5.84431\n",
            "213\t47    \t5.70372\n",
            "214\t38    \t5.70372\n",
            "215\t36    \t5.72715\n",
            "216\t37    \t5.75058\n",
            "217\t44    \t5.72715\n",
            "218\t41    \t5.75058\n",
            "219\t32    \t5.70372\n",
            "220\t40    \t5.75058\n",
            "221\t40    \t5.70372\n",
            "222\t36    \t5.79744\n",
            "223\t33    \t5.70372\n",
            "224\t39    \t5.65685\n",
            "225\t47    \t5.70372\n",
            "226\t41    \t5.79744\n",
            "227\t41    \t5.77401\n",
            "228\t44    \t5.77401\n",
            "229\t37    \t5.72715\n",
            "230\t48    \t5.72715\n",
            "231\t39    \t5.68029\n",
            "232\t36    \t5.75058\n",
            "233\t32    \t5.68029\n",
            "234\t36    \t5.68029\n",
            "235\t35    \t5.70372\n",
            "236\t35    \t5.68029\n",
            "237\t45    \t5.77401\n",
            "238\t35    \t5.77401\n",
            "239\t40    \t5.77401\n",
            "240\t38    \t5.68029\n",
            "241\t38    \t5.65685\n",
            "242\t42    \t5.70372\n",
            "243\t36    \t5.70372\n",
            "244\t44    \t5.75058\n",
            "245\t43    \t5.65685\n",
            "246\t39    \t5.68029\n",
            "247\t37    \t5.86774\n",
            "248\t32    \t5.68029\n",
            "249\t39    \t5.72715\n",
            "250\t40    \t5.79744\n",
            "251\t38    \t5.70372\n",
            "252\t40    \t5.72715\n",
            "253\t39    \t5.65685\n",
            "254\t37    \t5.65685\n",
            "255\t38    \t5.65685\n",
            "256\t39    \t5.65685\n",
            "257\t36    \t5.79744\n",
            "258\t34    \t5.72715\n",
            "259\t45    \t5.72715\n",
            "260\t29    \t5.68029\n",
            "261\t41    \t5.65685\n",
            "262\t30    \t5.68029\n",
            "263\t45    \t5.72715\n",
            "264\t43    \t5.70372\n",
            "265\t46    \t5.75058\n",
            "266\t30    \t5.65685\n",
            "267\t43    \t5.65685\n",
            "268\t35    \t5.70372\n",
            "269\t41    \t5.72715\n",
            "270\t37    \t5.65685\n",
            "271\t41    \t5.72715\n",
            "272\t37    \t5.72715\n",
            "273\t33    \t5.68029\n",
            "274\t34    \t5.68029\n",
            "275\t38    \t5.65685\n",
            "276\t37    \t5.72715\n",
            "277\t39    \t5.68029\n",
            "278\t41    \t5.65685\n",
            "279\t43    \t5.75058\n",
            "280\t37    \t5.68029\n",
            "281\t38    \t5.70372\n",
            "282\t35    \t5.68029\n",
            "283\t43    \t5.68029\n",
            "284\t40    \t5.75058\n",
            "285\t23    \t5.68029\n",
            "286\t31    \t5.70372\n",
            "287\t39    \t5.72715\n",
            "288\t35    \t5.75058\n",
            "289\t36    \t5.70372\n",
            "290\t37    \t5.84431\n",
            "291\t38    \t5.75058\n",
            "292\t40    \t5.72715\n",
            "293\t36    \t5.68029\n",
            "294\t35    \t5.70372\n",
            "295\t43    \t5.68029\n",
            "296\t45    \t5.72715\n",
            "297\t40    \t5.65685\n",
            "298\t37    \t5.70372\n",
            "299\t48    \t5.72715\n",
            "300\t36    \t5.79744\n",
            "Best route is [(2, 0), (1, 1), (0, 0), (1, -1)] with total distance 5.656854249492381\n"
          ]
        }
      ]
    },
    {
      "cell_type": "code",
      "source": [
        "media = log.select(\"mean\")\n",
        "plt.plot(media, label=\"Media\")\n",
        "plt.xlabel(\"Geração\")\n",
        "plt.ylabel(\"Aptidão\")\n",
        "plt.legend()"
      ],
      "metadata": {
        "colab": {
          "base_uri": "https://localhost:8080/",
          "height": 466
        },
        "id": "nwWKcSGjJUxE",
        "outputId": "f3ceda0b-5649-4535-d1dd-7f83c41bd405"
      },
      "execution_count": 98,
      "outputs": [
        {
          "output_type": "execute_result",
          "data": {
            "text/plain": [
              "<matplotlib.legend.Legend at 0x7934e2d8bf70>"
            ]
          },
          "metadata": {},
          "execution_count": 98
        },
        {
          "output_type": "display_data",
          "data": {
            "text/plain": [
              "<Figure size 640x480 with 1 Axes>"
            ],
            "image/png": "[encoded data removed]"
          },
          "metadata": {}
        }
      ]
    }
  ]
}