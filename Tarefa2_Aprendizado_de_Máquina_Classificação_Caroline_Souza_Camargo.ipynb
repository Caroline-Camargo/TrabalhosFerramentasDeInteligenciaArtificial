{
  "nbformat": 4,
  "nbformat_minor": 0,
  "metadata": {
    "colab": {
      "provenance": [],
      "include_colab_link": true
    },
    "kernelspec": {
      "name": "python3",
      "display_name": "Python 3"
    },
    "language_info": {
      "name": "python"
    }
  },
  "cells": [
    {
      "cell_type": "markdown",
      "metadata": {
        "id": "view-in-github",
        "colab_type": "text"
      },
      "source": [
        "<a href=\"https://colab.research.google.com/github/Caroline-Camargo/TrabalhosFerramentasDeInteligenciaArtificial/blob/main/Tarefa2_Aprendizado_de_M%C3%A1quina_Classifica%C3%A7%C3%A3o_Caroline_Souza_Camargo.ipynb\" target=\"_parent\"><img src=\"https://colab.research.google.com/assets/colab-badge.svg\" alt=\"Open In Colab\"/></a>"
      ]
    },
    {
      "cell_type": "markdown",
      "source": [
        "## Baixar dataset"
      ],
      "metadata": {
        "id": "Qjo4iboTdEvG"
      }
    },
    {
      "cell_type": "code",
      "source": [
        "!pip install gdown -qqq"
      ],
      "metadata": {
        "id": "DKMUQp5MWe1W"
      },
      "execution_count": null,
      "outputs": []
    },
    {
      "cell_type": "code",
      "source": [
        "!gdown https://drive.google.com/uc?id=16OWdq_ebnlmF7xr5JZc4NzRTRAuthoa5"
      ],
      "metadata": {
        "colab": {
          "base_uri": "https://localhost:8080/"
        },
        "id": "f9V-gR8pWgaP",
        "outputId": "dfe7835e-74a0-4265-d684-9fb436415f1f"
      },
      "execution_count": null,
      "outputs": [
        {
          "output_type": "stream",
          "name": "stdout",
          "text": [
            "Downloading...\n",
            "From: https://drive.google.com/uc?id=16OWdq_ebnlmF7xr5JZc4NzRTRAuthoa5\n",
            "To: /content/cars-india-dataset.csv\n",
            "\r  0% 0.00/20.6k [00:00<?, ?B/s]\r100% 20.6k/20.6k [00:00<00:00, 25.5MB/s]\n"
          ]
        }
      ]
    },
    {
      "cell_type": "code",
      "source": [
        "import pandas as pd\n",
        "import numpy as np"
      ],
      "metadata": {
        "id": "RAwfiyzEcDVq"
      },
      "execution_count": null,
      "outputs": []
    },
    {
      "cell_type": "markdown",
      "source": [
        "## Carregar e visualizar conjunto de dados\n",
        "Material de apoio:\n",
        "- https://www.w3schools.com/python/pandas/pandas_csv.asp\n",
        "- https://pandas.pydata.org/docs/user_guide/10min.html#viewing-data"
      ],
      "metadata": {
        "id": "PbWrJ5OjKIiI"
      }
    },
    {
      "cell_type": "code",
      "source": [
        "df = pd.read_csv('cars-india-dataset.csv')\n",
        "\n",
        "df.head()"
      ],
      "metadata": {
        "id": "L0ieHBihLf2S",
        "colab": {
          "base_uri": "https://localhost:8080/",
          "height": 411
        },
        "outputId": "16dafefc-e52f-4c39-8ce1-d5a2d753062b"
      },
      "execution_count": null,
      "outputs": [
        {
          "output_type": "execute_result",
          "data": {
            "text/plain": [
              "    Model       Maker          Type  Seats  Displacement  Length  Width  \\\n",
              "0  Virtus  Volkswagen         Sedan      5         999.0    4561   1752   \n",
              "1  Virtus  Volkswagen         Sedan      5         999.0    4561   1752   \n",
              "2  Virtus  Volkswagen         Sedan      5        1498.0    4561   1752   \n",
              "3  Taigun  Volkswagen  Mid Size SUV      5         999.0    4221   1760   \n",
              "4  Taigun  Volkswagen  Mid Size SUV      5         999.0    4221   1760   \n",
              "\n",
              "   Height  Wheelbase  No_of_Cylinders  ... Rear Brake Drive Turning Radius  \\\n",
              "0    1507       2651              3.0  ...       Drum   2WD           5.05   \n",
              "1    1507       2651              3.0  ...       Drum   2WD           5.05   \n",
              "2    1507       2651              4.0  ...       Drum   2WD           5.05   \n",
              "3    1612       2651              3.0  ...       Drum   2WD           5.05   \n",
              "4    1612       2651              3.0  ...       Drum   2WD           5.05   \n",
              "\n",
              "  Fuel Tank Capacity Boot Space Fuel Efficiency  Emission Type   Tyre Size  \\\n",
              "0               45.0      521.0           19.40          BS VI  205/55 R16   \n",
              "1               45.0      521.0           18.12          BS VI  205/55 R16   \n",
              "2               45.0      521.0           18.67          BS VI  205/55 R16   \n",
              "3               50.0      385.0           19.20          BS VI  205/55 R17   \n",
              "4               50.0      385.0           17.23          BS VI  205/55 R17   \n",
              "\n",
              "   Variants  NCAP Rating  \n",
              "0         3   Not Tested  \n",
              "1         2   Not Tested  \n",
              "2         1   Not Tested  \n",
              "3         3            5  \n",
              "4         2            5  \n",
              "\n",
              "[5 rows x 24 columns]"
            ],
            "text/html": [
              "\n",
              "  <div id=\"df-fe47fddd-72f5-44b1-a558-a66e46113222\" class=\"colab-df-container\">\n",
              "    <div>\n",
              "<style scoped>\n",
              "    .dataframe tbody tr th:only-of-type {\n",
              "        vertical-align: middle;\n",
              "    }\n",
              "\n",
              "    .dataframe tbody tr th {\n",
              "        vertical-align: top;\n",
              "    }\n",
              "\n",
              "    .dataframe thead th {\n",
              "        text-align: right;\n",
              "    }\n",
              "</style>\n",
              "<table border=\"1\" class=\"dataframe\">\n",
              "  <thead>\n",
              "    <tr style=\"text-align: right;\">\n",
              "      <th></th>\n",
              "      <th>Model</th>\n",
              "      <th>Maker</th>\n",
              "      <th>Type</th>\n",
              "      <th>Seats</th>\n",
              "      <th>Displacement</th>\n",
              "      <th>Length</th>\n",
              "      <th>Width</th>\n",
              "      <th>Height</th>\n",
              "      <th>Wheelbase</th>\n",
              "      <th>No_of_Cylinders</th>\n",
              "      <th>...</th>\n",
              "      <th>Rear Brake</th>\n",
              "      <th>Drive</th>\n",
              "      <th>Turning Radius</th>\n",
              "      <th>Fuel Tank Capacity</th>\n",
              "      <th>Boot Space</th>\n",
              "      <th>Fuel Efficiency</th>\n",
              "      <th>Emission Type</th>\n",
              "      <th>Tyre Size</th>\n",
              "      <th>Variants</th>\n",
              "      <th>NCAP Rating</th>\n",
              "    </tr>\n",
              "  </thead>\n",
              "  <tbody>\n",
              "    <tr>\n",
              "      <th>0</th>\n",
              "      <td>Virtus</td>\n",
              "      <td>Volkswagen</td>\n",
              "      <td>Sedan</td>\n",
              "      <td>5</td>\n",
              "      <td>999.0</td>\n",
              "      <td>4561</td>\n",
              "      <td>1752</td>\n",
              "      <td>1507</td>\n",
              "      <td>2651</td>\n",
              "      <td>3.0</td>\n",
              "      <td>...</td>\n",
              "      <td>Drum</td>\n",
              "      <td>2WD</td>\n",
              "      <td>5.05</td>\n",
              "      <td>45.0</td>\n",
              "      <td>521.0</td>\n",
              "      <td>19.40</td>\n",
              "      <td>BS VI</td>\n",
              "      <td>205/55 R16</td>\n",
              "      <td>3</td>\n",
              "      <td>Not Tested</td>\n",
              "    </tr>\n",
              "    <tr>\n",
              "      <th>1</th>\n",
              "      <td>Virtus</td>\n",
              "      <td>Volkswagen</td>\n",
              "      <td>Sedan</td>\n",
              "      <td>5</td>\n",
              "      <td>999.0</td>\n",
              "      <td>4561</td>\n",
              "      <td>1752</td>\n",
              "      <td>1507</td>\n",
              "      <td>2651</td>\n",
              "      <td>3.0</td>\n",
              "      <td>...</td>\n",
              "      <td>Drum</td>\n",
              "      <td>2WD</td>\n",
              "      <td>5.05</td>\n",
              "      <td>45.0</td>\n",
              "      <td>521.0</td>\n",
              "      <td>18.12</td>\n",
              "      <td>BS VI</td>\n",
              "      <td>205/55 R16</td>\n",
              "      <td>2</td>\n",
              "      <td>Not Tested</td>\n",
              "    </tr>\n",
              "    <tr>\n",
              "      <th>2</th>\n",
              "      <td>Virtus</td>\n",
              "      <td>Volkswagen</td>\n",
              "      <td>Sedan</td>\n",
              "      <td>5</td>\n",
              "      <td>1498.0</td>\n",
              "      <td>4561</td>\n",
              "      <td>1752</td>\n",
              "      <td>1507</td>\n",
              "      <td>2651</td>\n",
              "      <td>4.0</td>\n",
              "      <td>...</td>\n",
              "      <td>Drum</td>\n",
              "      <td>2WD</td>\n",
              "      <td>5.05</td>\n",
              "      <td>45.0</td>\n",
              "      <td>521.0</td>\n",
              "      <td>18.67</td>\n",
              "      <td>BS VI</td>\n",
              "      <td>205/55 R16</td>\n",
              "      <td>1</td>\n",
              "      <td>Not Tested</td>\n",
              "    </tr>\n",
              "    <tr>\n",
              "      <th>3</th>\n",
              "      <td>Taigun</td>\n",
              "      <td>Volkswagen</td>\n",
              "      <td>Mid Size SUV</td>\n",
              "      <td>5</td>\n",
              "      <td>999.0</td>\n",
              "      <td>4221</td>\n",
              "      <td>1760</td>\n",
              "      <td>1612</td>\n",
              "      <td>2651</td>\n",
              "      <td>3.0</td>\n",
              "      <td>...</td>\n",
              "      <td>Drum</td>\n",
              "      <td>2WD</td>\n",
              "      <td>5.05</td>\n",
              "      <td>50.0</td>\n",
              "      <td>385.0</td>\n",
              "      <td>19.20</td>\n",
              "      <td>BS VI</td>\n",
              "      <td>205/55 R17</td>\n",
              "      <td>3</td>\n",
              "      <td>5</td>\n",
              "    </tr>\n",
              "    <tr>\n",
              "      <th>4</th>\n",
              "      <td>Taigun</td>\n",
              "      <td>Volkswagen</td>\n",
              "      <td>Mid Size SUV</td>\n",
              "      <td>5</td>\n",
              "      <td>999.0</td>\n",
              "      <td>4221</td>\n",
              "      <td>1760</td>\n",
              "      <td>1612</td>\n",
              "      <td>2651</td>\n",
              "      <td>3.0</td>\n",
              "      <td>...</td>\n",
              "      <td>Drum</td>\n",
              "      <td>2WD</td>\n",
              "      <td>5.05</td>\n",
              "      <td>50.0</td>\n",
              "      <td>385.0</td>\n",
              "      <td>17.23</td>\n",
              "      <td>BS VI</td>\n",
              "      <td>205/55 R17</td>\n",
              "      <td>2</td>\n",
              "      <td>5</td>\n",
              "    </tr>\n",
              "  </tbody>\n",
              "</table>\n",
              "<p>5 rows × 24 columns</p>\n",
              "</div>\n",
              "    <div class=\"colab-df-buttons\">\n",
              "\n",
              "  <div class=\"colab-df-container\">\n",
              "    <button class=\"colab-df-convert\" onclick=\"convertToInteractive('df-fe47fddd-72f5-44b1-a558-a66e46113222')\"\n",
              "            title=\"Convert this dataframe to an interactive table.\"\n",
              "            style=\"display:none;\">\n",
              "\n",
              "  <svg xmlns=\"http://www.w3.org/2000/svg\" height=\"24px\" viewBox=\"0 -960 960 960\">\n",
              "    <path d=\"M120-120v-720h720v720H120Zm60-500h600v-160H180v160Zm220 220h160v-160H400v160Zm0 220h160v-160H400v160ZM180-400h160v-160H180v160Zm440 0h160v-160H620v160ZM180-180h160v-160H180v160Zm440 0h160v-160H620v160Z\"/>\n",
              "  </svg>\n",
              "    </button>\n",
              "\n",
              "  <style>\n",
              "    .colab-df-container {\n",
              "      display:flex;\n",
              "      gap: 12px;\n",
              "    }\n",
              "\n",
              "    .colab-df-convert {\n",
              "      background-color: #E8F0FE;\n",
              "      border: none;\n",
              "      border-radius: 50%;\n",
              "      cursor: pointer;\n",
              "      display: none;\n",
              "      fill: #1967D2;\n",
              "      height: 32px;\n",
              "      padding: 0 0 0 0;\n",
              "      width: 32px;\n",
              "    }\n",
              "\n",
              "    .colab-df-convert:hover {\n",
              "      background-color: #E2EBFA;\n",
              "      box-shadow: 0px 1px 2px rgba(60, 64, 67, 0.3), 0px 1px 3px 1px rgba(60, 64, 67, 0.15);\n",
              "      fill: #174EA6;\n",
              "    }\n",
              "\n",
              "    .colab-df-buttons div {\n",
              "      margin-bottom: 4px;\n",
              "    }\n",
              "\n",
              "    [theme=dark] .colab-df-convert {\n",
              "      background-color: #3B4455;\n",
              "      fill: #D2E3FC;\n",
              "    }\n",
              "\n",
              "    [theme=dark] .colab-df-convert:hover {\n",
              "      background-color: #434B5C;\n",
              "      box-shadow: 0px 1px 3px 1px rgba(0, 0, 0, 0.15);\n",
              "      filter: drop-shadow(0px 1px 2px rgba(0, 0, 0, 0.3));\n",
              "      fill: #FFFFFF;\n",
              "    }\n",
              "  </style>\n",
              "\n",
              "    <script>\n",
              "      const buttonEl =\n",
              "        document.querySelector('#df-fe47fddd-72f5-44b1-a558-a66e46113222 button.colab-df-convert');\n",
              "      buttonEl.style.display =\n",
              "        google.colab.kernel.accessAllowed ? 'block' : 'none';\n",
              "\n",
              "      async function convertToInteractive(key) {\n",
              "        const element = document.querySelector('#df-fe47fddd-72f5-44b1-a558-a66e46113222');\n",
              "        const dataTable =\n",
              "          await google.colab.kernel.invokeFunction('convertToInteractive',\n",
              "                                                    [key], {});\n",
              "        if (!dataTable) return;\n",
              "\n",
              "        const docLinkHtml = 'Like what you see? Visit the ' +\n",
              "          '<a target=\"_blank\" href=https://colab.research.google.com/notebooks/data_table.ipynb>data table notebook</a>'\n",
              "          + ' to learn more about interactive tables.';\n",
              "        element.innerHTML = '';\n",
              "        dataTable['output_type'] = 'display_data';\n",
              "        await google.colab.output.renderOutput(dataTable, element);\n",
              "        const docLink = document.createElement('div');\n",
              "        docLink.innerHTML = docLinkHtml;\n",
              "        element.appendChild(docLink);\n",
              "      }\n",
              "    </script>\n",
              "  </div>\n",
              "\n",
              "\n",
              "<div id=\"df-a9b89113-8593-4df4-88d7-2864be5b11ba\">\n",
              "  <button class=\"colab-df-quickchart\" onclick=\"quickchart('df-a9b89113-8593-4df4-88d7-2864be5b11ba')\"\n",
              "            title=\"Suggest charts\"\n",
              "            style=\"display:none;\">\n",
              "\n",
              "<svg xmlns=\"http://www.w3.org/2000/svg\" height=\"24px\"viewBox=\"0 0 24 24\"\n",
              "     width=\"24px\">\n",
              "    <g>\n",
              "        <path d=\"M19 3H5c-1.1 0-2 .9-2 2v14c0 1.1.9 2 2 2h14c1.1 0 2-.9 2-2V5c0-1.1-.9-2-2-2zM9 17H7v-7h2v7zm4 0h-2V7h2v10zm4 0h-2v-4h2v4z\"/>\n",
              "    </g>\n",
              "</svg>\n",
              "  </button>\n",
              "\n",
              "<style>\n",
              "  .colab-df-quickchart {\n",
              "      --bg-color: #E8F0FE;\n",
              "      --fill-color: #1967D2;\n",
              "      --hover-bg-color: #E2EBFA;\n",
              "      --hover-fill-color: #174EA6;\n",
              "      --disabled-fill-color: #AAA;\n",
              "      --disabled-bg-color: #DDD;\n",
              "  }\n",
              "\n",
              "  [theme=dark] .colab-df-quickchart {\n",
              "      --bg-color: #3B4455;\n",
              "      --fill-color: #D2E3FC;\n",
              "      --hover-bg-color: #434B5C;\n",
              "      --hover-fill-color: #FFFFFF;\n",
              "      --disabled-bg-color: #3B4455;\n",
              "      --disabled-fill-color: #666;\n",
              "  }\n",
              "\n",
              "  .colab-df-quickchart {\n",
              "    background-color: var(--bg-color);\n",
              "    border: none;\n",
              "    border-radius: 50%;\n",
              "    cursor: pointer;\n",
              "    display: none;\n",
              "    fill: var(--fill-color);\n",
              "    height: 32px;\n",
              "    padding: 0;\n",
              "    width: 32px;\n",
              "  }\n",
              "\n",
              "  .colab-df-quickchart:hover {\n",
              "    background-color: var(--hover-bg-color);\n",
              "    box-shadow: 0 1px 2px rgba(60, 64, 67, 0.3), 0 1px 3px 1px rgba(60, 64, 67, 0.15);\n",
              "    fill: var(--button-hover-fill-color);\n",
              "  }\n",
              "\n",
              "  .colab-df-quickchart-complete:disabled,\n",
              "  .colab-df-quickchart-complete:disabled:hover {\n",
              "    background-color: var(--disabled-bg-color);\n",
              "    fill: var(--disabled-fill-color);\n",
              "    box-shadow: none;\n",
              "  }\n",
              "\n",
              "  .colab-df-spinner {\n",
              "    border: 2px solid var(--fill-color);\n",
              "    border-color: transparent;\n",
              "    border-bottom-color: var(--fill-color);\n",
              "    animation:\n",
              "      spin 1s steps(1) infinite;\n",
              "  }\n",
              "\n",
              "  @keyframes spin {\n",
              "    0% {\n",
              "      border-color: transparent;\n",
              "      border-bottom-color: var(--fill-color);\n",
              "      border-left-color: var(--fill-color);\n",
              "    }\n",
              "    20% {\n",
              "      border-color: transparent;\n",
              "      border-left-color: var(--fill-color);\n",
              "      border-top-color: var(--fill-color);\n",
              "    }\n",
              "    30% {\n",
              "      border-color: transparent;\n",
              "      border-left-color: var(--fill-color);\n",
              "      border-top-color: var(--fill-color);\n",
              "      border-right-color: var(--fill-color);\n",
              "    }\n",
              "    40% {\n",
              "      border-color: transparent;\n",
              "      border-right-color: var(--fill-color);\n",
              "      border-top-color: var(--fill-color);\n",
              "    }\n",
              "    60% {\n",
              "      border-color: transparent;\n",
              "      border-right-color: var(--fill-color);\n",
              "    }\n",
              "    80% {\n",
              "      border-color: transparent;\n",
              "      border-right-color: var(--fill-color);\n",
              "      border-bottom-color: var(--fill-color);\n",
              "    }\n",
              "    90% {\n",
              "      border-color: transparent;\n",
              "      border-bottom-color: var(--fill-color);\n",
              "    }\n",
              "  }\n",
              "</style>\n",
              "\n",
              "  <script>\n",
              "    async function quickchart(key) {\n",
              "      const quickchartButtonEl =\n",
              "        document.querySelector('#' + key + ' button');\n",
              "      quickchartButtonEl.disabled = true;  // To prevent multiple clicks.\n",
              "      quickchartButtonEl.classList.add('colab-df-spinner');\n",
              "      try {\n",
              "        const charts = await google.colab.kernel.invokeFunction(\n",
              "            'suggestCharts', [key], {});\n",
              "      } catch (error) {\n",
              "        console.error('Error during call to suggestCharts:', error);\n",
              "      }\n",
              "      quickchartButtonEl.classList.remove('colab-df-spinner');\n",
              "      quickchartButtonEl.classList.add('colab-df-quickchart-complete');\n",
              "    }\n",
              "    (() => {\n",
              "      let quickchartButtonEl =\n",
              "        document.querySelector('#df-a9b89113-8593-4df4-88d7-2864be5b11ba button');\n",
              "      quickchartButtonEl.style.display =\n",
              "        google.colab.kernel.accessAllowed ? 'block' : 'none';\n",
              "    })();\n",
              "  </script>\n",
              "</div>\n",
              "\n",
              "    </div>\n",
              "  </div>\n"
            ],
            "application/vnd.google.colaboratory.intrinsic+json": {
              "type": "dataframe",
              "variable_name": "df"
            }
          },
          "metadata": {},
          "execution_count": 66
        }
      ]
    },
    {
      "cell_type": "code",
      "source": [
        "df.shape"
      ],
      "metadata": {
        "colab": {
          "base_uri": "https://localhost:8080/"
        },
        "id": "tmyZEW-NddLZ",
        "outputId": "f2df0170-e48c-4b47-cf48-f78b4f65b450"
      },
      "execution_count": null,
      "outputs": [
        {
          "output_type": "execute_result",
          "data": {
            "text/plain": [
              "(156, 24)"
            ]
          },
          "metadata": {},
          "execution_count": 67
        }
      ]
    },
    {
      "cell_type": "code",
      "source": [
        "df.columns"
      ],
      "metadata": {
        "colab": {
          "base_uri": "https://localhost:8080/"
        },
        "id": "BHJPuK7nduAv",
        "outputId": "3d564a1f-ffb2-4d3a-b2d1-501666672bc1"
      },
      "execution_count": null,
      "outputs": [
        {
          "output_type": "execute_result",
          "data": {
            "text/plain": [
              "Index(['Model', 'Maker', 'Type', 'Seats', 'Displacement', 'Length', 'Width',\n",
              "       'Height', 'Wheelbase', 'No_of_Cylinders', 'Fuel', 'Engine Type',\n",
              "       'Transmission', 'Front Brake', 'Rear Brake', 'Drive', 'Turning Radius',\n",
              "       'Fuel Tank Capacity', 'Boot Space', 'Fuel Efficiency', 'Emission Type',\n",
              "       'Tyre Size', 'Variants', 'NCAP Rating'],\n",
              "      dtype='object')"
            ]
          },
          "metadata": {},
          "execution_count": 68
        }
      ]
    },
    {
      "cell_type": "code",
      "source": [
        "df.info()"
      ],
      "metadata": {
        "colab": {
          "base_uri": "https://localhost:8080/"
        },
        "id": "pKr3z-ZydT4r",
        "outputId": "65a452f7-7ffd-492f-d178-24ae883d32ea"
      },
      "execution_count": null,
      "outputs": [
        {
          "output_type": "stream",
          "name": "stdout",
          "text": [
            "<class 'pandas.core.frame.DataFrame'>\n",
            "RangeIndex: 156 entries, 0 to 155\n",
            "Data columns (total 24 columns):\n",
            " #   Column              Non-Null Count  Dtype  \n",
            "---  ------              --------------  -----  \n",
            " 0   Model               156 non-null    object \n",
            " 1   Maker               156 non-null    object \n",
            " 2   Type                156 non-null    object \n",
            " 3   Seats               156 non-null    int64  \n",
            " 4   Displacement        155 non-null    float64\n",
            " 5   Length              156 non-null    int64  \n",
            " 6   Width               156 non-null    int64  \n",
            " 7   Height              156 non-null    int64  \n",
            " 8   Wheelbase           156 non-null    int64  \n",
            " 9   No_of_Cylinders     155 non-null    float64\n",
            " 10  Fuel                156 non-null    object \n",
            " 11  Engine Type         156 non-null    object \n",
            " 12  Transmission        155 non-null    object \n",
            " 13  Front Brake         156 non-null    object \n",
            " 14  Rear Brake          156 non-null    object \n",
            " 15  Drive               156 non-null    object \n",
            " 16  Turning Radius      137 non-null    float64\n",
            " 17  Fuel Tank Capacity  155 non-null    float64\n",
            " 18  Boot Space          141 non-null    float64\n",
            " 19  Fuel Efficiency     133 non-null    float64\n",
            " 20  Emission Type       155 non-null    object \n",
            " 21  Tyre Size           156 non-null    object \n",
            " 22  Variants            156 non-null    int64  \n",
            " 23  NCAP Rating         156 non-null    object \n",
            "dtypes: float64(6), int64(6), object(12)\n",
            "memory usage: 29.4+ KB\n"
          ]
        }
      ]
    },
    {
      "cell_type": "code",
      "source": [
        "df.isnull().sum()"
      ],
      "metadata": {
        "colab": {
          "base_uri": "https://localhost:8080/"
        },
        "id": "ghJ2CKfHRoO1",
        "outputId": "a8f79a4d-6f3a-4190-812c-1bd7254b764f"
      },
      "execution_count": null,
      "outputs": [
        {
          "output_type": "execute_result",
          "data": {
            "text/plain": [
              "Model                  0\n",
              "Maker                  0\n",
              "Type                   0\n",
              "Seats                  0\n",
              "Displacement           1\n",
              "Length                 0\n",
              "Width                  0\n",
              "Height                 0\n",
              "Wheelbase              0\n",
              "No_of_Cylinders        1\n",
              "Fuel                   0\n",
              "Engine Type            0\n",
              "Transmission           1\n",
              "Front Brake            0\n",
              "Rear Brake             0\n",
              "Drive                  0\n",
              "Turning Radius        19\n",
              "Fuel Tank Capacity     1\n",
              "Boot Space            15\n",
              "Fuel Efficiency       23\n",
              "Emission Type          1\n",
              "Tyre Size              0\n",
              "Variants               0\n",
              "NCAP Rating            0\n",
              "dtype: int64"
            ]
          },
          "metadata": {},
          "execution_count": 70
        }
      ]
    },
    {
      "cell_type": "code",
      "source": [
        "np.unique(df['NCAP Rating'])"
      ],
      "metadata": {
        "colab": {
          "base_uri": "https://localhost:8080/"
        },
        "id": "IzPwnD0db8zo",
        "outputId": "c227b706-ea2e-4d45-c7a9-4eeea0e24b72"
      },
      "execution_count": null,
      "outputs": [
        {
          "output_type": "execute_result",
          "data": {
            "text/plain": [
              "array(['0', '2', '3', '4', '5', '6', 'Not Rated', 'Not Tested'],\n",
              "      dtype=object)"
            ]
          },
          "metadata": {},
          "execution_count": 71
        }
      ]
    },
    {
      "cell_type": "code",
      "source": [
        "df.describe()"
      ],
      "metadata": {
        "colab": {
          "base_uri": "https://localhost:8080/",
          "height": 337
        },
        "id": "VmC-ra41dvPO",
        "outputId": "231238e9-47aa-4aca-8f3e-ef924094c3a2"
      },
      "execution_count": null,
      "outputs": [
        {
          "output_type": "execute_result",
          "data": {
            "text/plain": [
              "            Seats  Displacement       Length        Width       Height  \\\n",
              "count  156.000000    155.000000   156.000000   156.000000   156.000000   \n",
              "mean     5.538462   1598.109677  4324.455128  1800.512821  1653.666667   \n",
              "std      1.018440    504.656969   325.767389    79.050452   125.170559   \n",
              "min      2.000000    799.000000  3731.000000  1579.000000  1370.000000   \n",
              "25%      5.000000   1197.000000  3995.000000  1751.500000  1544.000000   \n",
              "50%      5.000000   1493.000000  4315.000000  1790.000000  1631.000000   \n",
              "75%      6.000000   1999.000000  4598.000000  1855.000000  1755.000000   \n",
              "max      9.000000   3799.000000  5115.000000  2099.000000  1995.000000   \n",
              "\n",
              "         Wheelbase  No_of_Cylinders  Turning Radius  Fuel Tank Capacity  \\\n",
              "count   156.000000       155.000000      137.000000          155.000000   \n",
              "mean   2633.358974         3.870968        5.247080           48.725806   \n",
              "std     128.228372         0.389966        0.284181           10.997815   \n",
              "min    2422.000000         3.000000        4.700000           28.000000   \n",
              "25%    2500.000000         4.000000        5.100000           40.000000   \n",
              "50%    2610.000000         4.000000        5.200000           50.000000   \n",
              "75%    2750.000000         4.000000        5.300000           57.000000   \n",
              "max    3060.000000         6.000000        5.900000           80.000000   \n",
              "\n",
              "       Boot Space  Fuel Efficiency    Variants  \n",
              "count  141.000000       133.000000  156.000000  \n",
              "mean   377.673759        18.028947    2.871795  \n",
              "std    105.015951         3.273723    2.864055  \n",
              "min    180.000000         9.000000    1.000000  \n",
              "25%    296.000000        16.200000    1.000000  \n",
              "50%    392.000000        18.100000    2.000000  \n",
              "75%    447.000000        20.250000    3.000000  \n",
              "max    625.000000        28.000000   20.000000  "
            ],
            "text/html": [
              "\n",
              "  <div id=\"df-242346d3-8654-40e6-acca-2c769cce1f28\" class=\"colab-df-container\">\n",
              "    <div>\n",
              "<style scoped>\n",
              "    .dataframe tbody tr th:only-of-type {\n",
              "        vertical-align: middle;\n",
              "    }\n",
              "\n",
              "    .dataframe tbody tr th {\n",
              "        vertical-align: top;\n",
              "    }\n",
              "\n",
              "    .dataframe thead th {\n",
              "        text-align: right;\n",
              "    }\n",
              "</style>\n",
              "<table border=\"1\" class=\"dataframe\">\n",
              "  <thead>\n",
              "    <tr style=\"text-align: right;\">\n",
              "      <th></th>\n",
              "      <th>Seats</th>\n",
              "      <th>Displacement</th>\n",
              "      <th>Length</th>\n",
              "      <th>Width</th>\n",
              "      <th>Height</th>\n",
              "      <th>Wheelbase</th>\n",
              "      <th>No_of_Cylinders</th>\n",
              "      <th>Turning Radius</th>\n",
              "      <th>Fuel Tank Capacity</th>\n",
              "      <th>Boot Space</th>\n",
              "      <th>Fuel Efficiency</th>\n",
              "      <th>Variants</th>\n",
              "    </tr>\n",
              "  </thead>\n",
              "  <tbody>\n",
              "    <tr>\n",
              "      <th>count</th>\n",
              "      <td>156.000000</td>\n",
              "      <td>155.000000</td>\n",
              "      <td>156.000000</td>\n",
              "      <td>156.000000</td>\n",
              "      <td>156.000000</td>\n",
              "      <td>156.000000</td>\n",
              "      <td>155.000000</td>\n",
              "      <td>137.000000</td>\n",
              "      <td>155.000000</td>\n",
              "      <td>141.000000</td>\n",
              "      <td>133.000000</td>\n",
              "      <td>156.000000</td>\n",
              "    </tr>\n",
              "    <tr>\n",
              "      <th>mean</th>\n",
              "      <td>5.538462</td>\n",
              "      <td>1598.109677</td>\n",
              "      <td>4324.455128</td>\n",
              "      <td>1800.512821</td>\n",
              "      <td>1653.666667</td>\n",
              "      <td>2633.358974</td>\n",
              "      <td>3.870968</td>\n",
              "      <td>5.247080</td>\n",
              "      <td>48.725806</td>\n",
              "      <td>377.673759</td>\n",
              "      <td>18.028947</td>\n",
              "      <td>2.871795</td>\n",
              "    </tr>\n",
              "    <tr>\n",
              "      <th>std</th>\n",
              "      <td>1.018440</td>\n",
              "      <td>504.656969</td>\n",
              "      <td>325.767389</td>\n",
              "      <td>79.050452</td>\n",
              "      <td>125.170559</td>\n",
              "      <td>128.228372</td>\n",
              "      <td>0.389966</td>\n",
              "      <td>0.284181</td>\n",
              "      <td>10.997815</td>\n",
              "      <td>105.015951</td>\n",
              "      <td>3.273723</td>\n",
              "      <td>2.864055</td>\n",
              "    </tr>\n",
              "    <tr>\n",
              "      <th>min</th>\n",
              "      <td>2.000000</td>\n",
              "      <td>799.000000</td>\n",
              "      <td>3731.000000</td>\n",
              "      <td>1579.000000</td>\n",
              "      <td>1370.000000</td>\n",
              "      <td>2422.000000</td>\n",
              "      <td>3.000000</td>\n",
              "      <td>4.700000</td>\n",
              "      <td>28.000000</td>\n",
              "      <td>180.000000</td>\n",
              "      <td>9.000000</td>\n",
              "      <td>1.000000</td>\n",
              "    </tr>\n",
              "    <tr>\n",
              "      <th>25%</th>\n",
              "      <td>5.000000</td>\n",
              "      <td>1197.000000</td>\n",
              "      <td>3995.000000</td>\n",
              "      <td>1751.500000</td>\n",
              "      <td>1544.000000</td>\n",
              "      <td>2500.000000</td>\n",
              "      <td>4.000000</td>\n",
              "      <td>5.100000</td>\n",
              "      <td>40.000000</td>\n",
              "      <td>296.000000</td>\n",
              "      <td>16.200000</td>\n",
              "      <td>1.000000</td>\n",
              "    </tr>\n",
              "    <tr>\n",
              "      <th>50%</th>\n",
              "      <td>5.000000</td>\n",
              "      <td>1493.000000</td>\n",
              "      <td>4315.000000</td>\n",
              "      <td>1790.000000</td>\n",
              "      <td>1631.000000</td>\n",
              "      <td>2610.000000</td>\n",
              "      <td>4.000000</td>\n",
              "      <td>5.200000</td>\n",
              "      <td>50.000000</td>\n",
              "      <td>392.000000</td>\n",
              "      <td>18.100000</td>\n",
              "      <td>2.000000</td>\n",
              "    </tr>\n",
              "    <tr>\n",
              "      <th>75%</th>\n",
              "      <td>6.000000</td>\n",
              "      <td>1999.000000</td>\n",
              "      <td>4598.000000</td>\n",
              "      <td>1855.000000</td>\n",
              "      <td>1755.000000</td>\n",
              "      <td>2750.000000</td>\n",
              "      <td>4.000000</td>\n",
              "      <td>5.300000</td>\n",
              "      <td>57.000000</td>\n",
              "      <td>447.000000</td>\n",
              "      <td>20.250000</td>\n",
              "      <td>3.000000</td>\n",
              "    </tr>\n",
              "    <tr>\n",
              "      <th>max</th>\n",
              "      <td>9.000000</td>\n",
              "      <td>3799.000000</td>\n",
              "      <td>5115.000000</td>\n",
              "      <td>2099.000000</td>\n",
              "      <td>1995.000000</td>\n",
              "      <td>3060.000000</td>\n",
              "      <td>6.000000</td>\n",
              "      <td>5.900000</td>\n",
              "      <td>80.000000</td>\n",
              "      <td>625.000000</td>\n",
              "      <td>28.000000</td>\n",
              "      <td>20.000000</td>\n",
              "    </tr>\n",
              "  </tbody>\n",
              "</table>\n",
              "</div>\n",
              "    <div class=\"colab-df-buttons\">\n",
              "\n",
              "  <div class=\"colab-df-container\">\n",
              "    <button class=\"colab-df-convert\" onclick=\"convertToInteractive('df-242346d3-8654-40e6-acca-2c769cce1f28')\"\n",
              "            title=\"Convert this dataframe to an interactive table.\"\n",
              "            style=\"display:none;\">\n",
              "\n",
              "  <svg xmlns=\"http://www.w3.org/2000/svg\" height=\"24px\" viewBox=\"0 -960 960 960\">\n",
              "    <path d=\"M120-120v-720h720v720H120Zm60-500h600v-160H180v160Zm220 220h160v-160H400v160Zm0 220h160v-160H400v160ZM180-400h160v-160H180v160Zm440 0h160v-160H620v160ZM180-180h160v-160H180v160Zm440 0h160v-160H620v160Z\"/>\n",
              "  </svg>\n",
              "    </button>\n",
              "\n",
              "  <style>\n",
              "    .colab-df-container {\n",
              "      display:flex;\n",
              "      gap: 12px;\n",
              "    }\n",
              "\n",
              "    .colab-df-convert {\n",
              "      background-color: #E8F0FE;\n",
              "      border: none;\n",
              "      border-radius: 50%;\n",
              "      cursor: pointer;\n",
              "      display: none;\n",
              "      fill: #1967D2;\n",
              "      height: 32px;\n",
              "      padding: 0 0 0 0;\n",
              "      width: 32px;\n",
              "    }\n",
              "\n",
              "    .colab-df-convert:hover {\n",
              "      background-color: #E2EBFA;\n",
              "      box-shadow: 0px 1px 2px rgba(60, 64, 67, 0.3), 0px 1px 3px 1px rgba(60, 64, 67, 0.15);\n",
              "      fill: #174EA6;\n",
              "    }\n",
              "\n",
              "    .colab-df-buttons div {\n",
              "      margin-bottom: 4px;\n",
              "    }\n",
              "\n",
              "    [theme=dark] .colab-df-convert {\n",
              "      background-color: #3B4455;\n",
              "      fill: #D2E3FC;\n",
              "    }\n",
              "\n",
              "    [theme=dark] .colab-df-convert:hover {\n",
              "      background-color: #434B5C;\n",
              "      box-shadow: 0px 1px 3px 1px rgba(0, 0, 0, 0.15);\n",
              "      filter: drop-shadow(0px 1px 2px rgba(0, 0, 0, 0.3));\n",
              "      fill: #FFFFFF;\n",
              "    }\n",
              "  </style>\n",
              "\n",
              "    <script>\n",
              "      const buttonEl =\n",
              "        document.querySelector('#df-242346d3-8654-40e6-acca-2c769cce1f28 button.colab-df-convert');\n",
              "      buttonEl.style.display =\n",
              "        google.colab.kernel.accessAllowed ? 'block' : 'none';\n",
              "\n",
              "      async function convertToInteractive(key) {\n",
              "        const element = document.querySelector('#df-242346d3-8654-40e6-acca-2c769cce1f28');\n",
              "        const dataTable =\n",
              "          await google.colab.kernel.invokeFunction('convertToInteractive',\n",
              "                                                    [key], {});\n",
              "        if (!dataTable) return;\n",
              "\n",
              "        const docLinkHtml = 'Like what you see? Visit the ' +\n",
              "          '<a target=\"_blank\" href=https://colab.research.google.com/notebooks/data_table.ipynb>data table notebook</a>'\n",
              "          + ' to learn more about interactive tables.';\n",
              "        element.innerHTML = '';\n",
              "        dataTable['output_type'] = 'display_data';\n",
              "        await google.colab.output.renderOutput(dataTable, element);\n",
              "        const docLink = document.createElement('div');\n",
              "        docLink.innerHTML = docLinkHtml;\n",
              "        element.appendChild(docLink);\n",
              "      }\n",
              "    </script>\n",
              "  </div>\n",
              "\n",
              "\n",
              "<div id=\"df-197e8863-43a7-4f48-95e1-35dda90bdf61\">\n",
              "  <button class=\"colab-df-quickchart\" onclick=\"quickchart('df-197e8863-43a7-4f48-95e1-35dda90bdf61')\"\n",
              "            title=\"Suggest charts\"\n",
              "            style=\"display:none;\">\n",
              "\n",
              "<svg xmlns=\"http://www.w3.org/2000/svg\" height=\"24px\"viewBox=\"0 0 24 24\"\n",
              "     width=\"24px\">\n",
              "    <g>\n",
              "        <path d=\"M19 3H5c-1.1 0-2 .9-2 2v14c0 1.1.9 2 2 2h14c1.1 0 2-.9 2-2V5c0-1.1-.9-2-2-2zM9 17H7v-7h2v7zm4 0h-2V7h2v10zm4 0h-2v-4h2v4z\"/>\n",
              "    </g>\n",
              "</svg>\n",
              "  </button>\n",
              "\n",
              "<style>\n",
              "  .colab-df-quickchart {\n",
              "      --bg-color: #E8F0FE;\n",
              "      --fill-color: #1967D2;\n",
              "      --hover-bg-color: #E2EBFA;\n",
              "      --hover-fill-color: #174EA6;\n",
              "      --disabled-fill-color: #AAA;\n",
              "      --disabled-bg-color: #DDD;\n",
              "  }\n",
              "\n",
              "  [theme=dark] .colab-df-quickchart {\n",
              "      --bg-color: #3B4455;\n",
              "      --fill-color: #D2E3FC;\n",
              "      --hover-bg-color: #434B5C;\n",
              "      --hover-fill-color: #FFFFFF;\n",
              "      --disabled-bg-color: #3B4455;\n",
              "      --disabled-fill-color: #666;\n",
              "  }\n",
              "\n",
              "  .colab-df-quickchart {\n",
              "    background-color: var(--bg-color);\n",
              "    border: none;\n",
              "    border-radius: 50%;\n",
              "    cursor: pointer;\n",
              "    display: none;\n",
              "    fill: var(--fill-color);\n",
              "    height: 32px;\n",
              "    padding: 0;\n",
              "    width: 32px;\n",
              "  }\n",
              "\n",
              "  .colab-df-quickchart:hover {\n",
              "    background-color: var(--hover-bg-color);\n",
              "    box-shadow: 0 1px 2px rgba(60, 64, 67, 0.3), 0 1px 3px 1px rgba(60, 64, 67, 0.15);\n",
              "    fill: var(--button-hover-fill-color);\n",
              "  }\n",
              "\n",
              "  .colab-df-quickchart-complete:disabled,\n",
              "  .colab-df-quickchart-complete:disabled:hover {\n",
              "    background-color: var(--disabled-bg-color);\n",
              "    fill: var(--disabled-fill-color);\n",
              "    box-shadow: none;\n",
              "  }\n",
              "\n",
              "  .colab-df-spinner {\n",
              "    border: 2px solid var(--fill-color);\n",
              "    border-color: transparent;\n",
              "    border-bottom-color: var(--fill-color);\n",
              "    animation:\n",
              "      spin 1s steps(1) infinite;\n",
              "  }\n",
              "\n",
              "  @keyframes spin {\n",
              "    0% {\n",
              "      border-color: transparent;\n",
              "      border-bottom-color: var(--fill-color);\n",
              "      border-left-color: var(--fill-color);\n",
              "    }\n",
              "    20% {\n",
              "      border-color: transparent;\n",
              "      border-left-color: var(--fill-color);\n",
              "      border-top-color: var(--fill-color);\n",
              "    }\n",
              "    30% {\n",
              "      border-color: transparent;\n",
              "      border-left-color: var(--fill-color);\n",
              "      border-top-color: var(--fill-color);\n",
              "      border-right-color: var(--fill-color);\n",
              "    }\n",
              "    40% {\n",
              "      border-color: transparent;\n",
              "      border-right-color: var(--fill-color);\n",
              "      border-top-color: var(--fill-color);\n",
              "    }\n",
              "    60% {\n",
              "      border-color: transparent;\n",
              "      border-right-color: var(--fill-color);\n",
              "    }\n",
              "    80% {\n",
              "      border-color: transparent;\n",
              "      border-right-color: var(--fill-color);\n",
              "      border-bottom-color: var(--fill-color);\n",
              "    }\n",
              "    90% {\n",
              "      border-color: transparent;\n",
              "      border-bottom-color: var(--fill-color);\n",
              "    }\n",
              "  }\n",
              "</style>\n",
              "\n",
              "  <script>\n",
              "    async function quickchart(key) {\n",
              "      const quickchartButtonEl =\n",
              "        document.querySelector('#' + key + ' button');\n",
              "      quickchartButtonEl.disabled = true;  // To prevent multiple clicks.\n",
              "      quickchartButtonEl.classList.add('colab-df-spinner');\n",
              "      try {\n",
              "        const charts = await google.colab.kernel.invokeFunction(\n",
              "            'suggestCharts', [key], {});\n",
              "      } catch (error) {\n",
              "        console.error('Error during call to suggestCharts:', error);\n",
              "      }\n",
              "      quickchartButtonEl.classList.remove('colab-df-spinner');\n",
              "      quickchartButtonEl.classList.add('colab-df-quickchart-complete');\n",
              "    }\n",
              "    (() => {\n",
              "      let quickchartButtonEl =\n",
              "        document.querySelector('#df-197e8863-43a7-4f48-95e1-35dda90bdf61 button');\n",
              "      quickchartButtonEl.style.display =\n",
              "        google.colab.kernel.accessAllowed ? 'block' : 'none';\n",
              "    })();\n",
              "  </script>\n",
              "</div>\n",
              "\n",
              "    </div>\n",
              "  </div>\n"
            ],
            "application/vnd.google.colaboratory.intrinsic+json": {
              "type": "dataframe",
              "summary": "{\n  \"name\": \"df\",\n  \"rows\": 8,\n  \"fields\": [\n    {\n      \"column\": \"Seats\",\n      \"properties\": {\n        \"dtype\": \"number\",\n        \"std\": 53.51533077152769,\n        \"min\": 1.018440397702515,\n        \"max\": 156.0,\n        \"num_unique_values\": 7,\n        \"samples\": [\n          156.0,\n          5.538461538461538,\n          6.0\n        ],\n        \"semantic_type\": \"\",\n        \"description\": \"\"\n      }\n    },\n    {\n      \"column\": \"Displacement\",\n      \"properties\": {\n        \"dtype\": \"number\",\n        \"std\": 1127.6470180811284,\n        \"min\": 155.0,\n        \"max\": 3799.0,\n        \"num_unique_values\": 8,\n        \"samples\": [\n          1598.1096774193547,\n          1493.0,\n          155.0\n        ],\n        \"semantic_type\": \"\",\n        \"description\": \"\"\n      }\n    },\n    {\n      \"column\": \"Length\",\n      \"properties\": {\n        \"dtype\": \"number\",\n        \"std\": 1944.0434676625782,\n        \"min\": 156.0,\n        \"max\": 5115.0,\n        \"num_unique_values\": 8,\n        \"samples\": [\n          4324.455128205128,\n          4315.0,\n          156.0\n        ],\n        \"semantic_type\": \"\",\n        \"description\": \"\"\n      }\n    },\n    {\n      \"column\": \"Width\",\n      \"properties\": {\n        \"dtype\": \"number\",\n        \"std\": 797.7792748608267,\n        \"min\": 79.05045242199702,\n        \"max\": 2099.0,\n        \"num_unique_values\": 8,\n        \"samples\": [\n          1800.5128205128206,\n          1790.0,\n          156.0\n        ],\n        \"semantic_type\": \"\",\n        \"description\": \"\"\n      }\n    },\n    {\n      \"column\": \"Height\",\n      \"properties\": {\n        \"dtype\": \"number\",\n        \"std\": 724.5163811165838,\n        \"min\": 125.17055890745357,\n        \"max\": 1995.0,\n        \"num_unique_values\": 8,\n        \"samples\": [\n          1653.6666666666667,\n          1631.0,\n          156.0\n        ],\n        \"semantic_type\": \"\",\n        \"description\": \"\"\n      }\n    },\n    {\n      \"column\": \"Wheelbase\",\n      \"properties\": {\n        \"dtype\": \"number\",\n        \"std\": 1182.1813625531984,\n        \"min\": 128.2283723180185,\n        \"max\": 3060.0,\n        \"num_unique_values\": 8,\n        \"samples\": [\n          2633.358974358974,\n          2610.0,\n          156.0\n        ],\n        \"semantic_type\": \"\",\n        \"description\": \"\"\n      }\n    },\n    {\n      \"column\": \"No_of_Cylinders\",\n      \"properties\": {\n        \"dtype\": \"number\",\n        \"std\": 53.54755686205752,\n        \"min\": 0.38996632254451663,\n        \"max\": 155.0,\n        \"num_unique_values\": 6,\n        \"samples\": [\n          155.0,\n          3.870967741935484,\n          6.0\n        ],\n        \"semantic_type\": \"\",\n        \"description\": \"\"\n      }\n    },\n    {\n      \"column\": \"Turning Radius\",\n      \"properties\": {\n        \"dtype\": \"number\",\n        \"std\": 46.8674007588807,\n        \"min\": 0.2841813851790209,\n        \"max\": 137.0,\n        \"num_unique_values\": 8,\n        \"samples\": [\n          5.2470802919708035,\n          5.2,\n          137.0\n        ],\n        \"semantic_type\": \"\",\n        \"description\": \"\"\n      }\n    },\n    {\n      \"column\": \"Fuel Tank Capacity\",\n      \"properties\": {\n        \"dtype\": \"number\",\n        \"std\": 43.87176298796754,\n        \"min\": 10.997814651336551,\n        \"max\": 155.0,\n        \"num_unique_values\": 8,\n        \"samples\": [\n          48.725806451612904,\n          50.0,\n          155.0\n        ],\n        \"semantic_type\": \"\",\n        \"description\": \"\"\n      }\n    },\n    {\n      \"column\": \"Boot Space\",\n      \"properties\": {\n        \"dtype\": \"number\",\n        \"std\": 175.70173674732493,\n        \"min\": 105.01595092813966,\n        \"max\": 625.0,\n        \"num_unique_values\": 8,\n        \"samples\": [\n          377.6737588652482,\n          392.0,\n          141.0\n        ],\n        \"semantic_type\": \"\",\n        \"description\": \"\"\n      }\n    },\n    {\n      \"column\": \"Fuel Efficiency\",\n      \"properties\": {\n        \"dtype\": \"number\",\n        \"std\": 41.976916700677236,\n        \"min\": 3.2737232679454933,\n        \"max\": 133.0,\n        \"num_unique_values\": 8,\n        \"samples\": [\n          18.028947368421054,\n          18.1,\n          133.0\n        ],\n        \"semantic_type\": \"\",\n        \"description\": \"\"\n      }\n    },\n    {\n      \"column\": \"Variants\",\n      \"properties\": {\n        \"dtype\": \"number\",\n        \"std\": 53.871271670531236,\n        \"min\": 1.0,\n        \"max\": 156.0,\n        \"num_unique_values\": 7,\n        \"samples\": [\n          156.0,\n          2.871794871794872,\n          3.0\n        ],\n        \"semantic_type\": \"\",\n        \"description\": \"\"\n      }\n    }\n  ]\n}"
            }
          },
          "metadata": {},
          "execution_count": 72
        }
      ]
    },
    {
      "cell_type": "markdown",
      "source": [
        "# Pré-Processamento de Dados\n",
        "## Tratamento dos dados\n",
        "Antes de preencher valores faltantes, divida seus dados em conjuntos de treino e teste. Calcule estatísticas apenas no conjunto de treino e use-as para preencher os valores faltantes em ambos os conjuntos. Isso impede vazamento de informações do teste para o treino.\n",
        "\n",
        "Materiais de apoio:\n",
        "- https://scikit-learn.org/stable/modules/generated/sklearn.model_selection.train_test_split.html\n",
        "- https://www.freecodecamp.org/news/data-cleaning-and-preprocessing-with-pandasbdvhj/#how-to-handle-missing-values\n",
        "- https://scikit-learn.org/stable/common_pitfalls.html\n",
        "\n"
      ],
      "metadata": {
        "id": "-mwnQu8QKqWh"
      }
    },
    {
      "cell_type": "code",
      "source": [
        "from sklearn.model_selection import train_test_split\n",
        "\n",
        "X = ['Maker', 'Type', 'Seats', 'Displacement', 'Length', 'Width',\n",
        "       'Height', 'Wheelbase', 'No_of_Cylinders', 'Fuel', 'Engine Type',\n",
        "       'Transmission', 'Front Brake', 'Rear Brake', 'Drive', 'Turning Radius',\n",
        "       'Fuel Tank Capacity', 'Boot Space', 'Fuel Efficiency', 'Emission Type',\n",
        "       'Tyre Size', 'Variants', 'NCAP Rating']\n",
        "y = ['Model']\n",
        "\n",
        "X_train, X_test, y_train, y_test = train_test_split(df[X], df[y], test_size=0.30)\n",
        "X_train.shape"
      ],
      "metadata": {
        "id": "3qsR6wMmLgO5",
        "colab": {
          "base_uri": "https://localhost:8080/"
        },
        "outputId": "8a760851-f6b7-4fdd-a891-e2aee8dd22b1"
      },
      "execution_count": null,
      "outputs": [
        {
          "output_type": "execute_result",
          "data": {
            "text/plain": [
              "(109, 23)"
            ]
          },
          "metadata": {},
          "execution_count": 73
        }
      ]
    },
    {
      "cell_type": "markdown",
      "source": [
        "### Lidando com valores ausentes"
      ],
      "metadata": {
        "id": "M_P7Stu0jd0B"
      }
    },
    {
      "cell_type": "code",
      "source": [
        "X_train.isnull().sum()"
      ],
      "metadata": {
        "colab": {
          "base_uri": "https://localhost:8080/"
        },
        "id": "NzEIMM6UjSPb",
        "outputId": "e5076dc4-1286-4390-9dab-050a993ff4c9"
      },
      "execution_count": null,
      "outputs": [
        {
          "output_type": "execute_result",
          "data": {
            "text/plain": [
              "Maker                  0\n",
              "Type                   0\n",
              "Seats                  0\n",
              "Displacement           1\n",
              "Length                 0\n",
              "Width                  0\n",
              "Height                 0\n",
              "Wheelbase              0\n",
              "No_of_Cylinders        1\n",
              "Fuel                   0\n",
              "Engine Type            0\n",
              "Transmission           1\n",
              "Front Brake            0\n",
              "Rear Brake             0\n",
              "Drive                  0\n",
              "Turning Radius        14\n",
              "Fuel Tank Capacity     1\n",
              "Boot Space            11\n",
              "Fuel Efficiency       16\n",
              "Emission Type          1\n",
              "Tyre Size              0\n",
              "Variants               0\n",
              "NCAP Rating            0\n",
              "dtype: int64"
            ]
          },
          "metadata": {},
          "execution_count": 74
        }
      ]
    },
    {
      "cell_type": "markdown",
      "source": [
        "No momento do tratamento de dados nulos no conjunto de teste foi tomado cuidado para que as informações preenchidas no conjunto de teste fossem derivadas exclusivamente do conjunto de treinamento (para evitar o vazamento de dados)\n",
        "\n",
        "Vale ressaltar que para as colunas Cilindrada do motor (Displacement) e Número de cilindros do motor (No_of_Cylinders) foi preenchido de acordo com o Tipo do motor do veículo (Engine Type), pois acredito que o tipo de motor deva influenciar nesses atributos. Já para os outros atributos adotei o critério que para váriáveis categóricas preencho com a moda e para as restantes com a média\n",
        "\n",
        "\n"
      ],
      "metadata": {
        "id": "3NKrgcMrSnRg"
      }
    },
    {
      "cell_type": "code",
      "source": [
        "def calc_moda_subgrupo(X_train, value, columFilter, columModa):\n",
        "  linhas_filtradas = X_train[X_train[columFilter] == value]\n",
        "  moda = linhas_filtradas[columModa].mode()\n",
        "  return moda.iloc[0] if not moda.empty else None\n",
        "\n",
        "def calc_media_subgrupo(X_train, value, columFilter, columMedia):\n",
        "  linhas_filtradas = X_train[X_train[columFilter] == value]\n",
        "  media = linhas_filtradas[columMedia].mean()\n",
        "  return media\n",
        "\n",
        "def preencher_valores_com_moda_subgrupo(df_x, df_y, X_train, columModa, columFilter): # Preenche valores ausentes com a moda específica de um subgrupo de uma coluna do dataset\n",
        "  id_linhas_nulas = df_x[df_x[columModa].isnull()].index\n",
        "  for i in id_linhas_nulas:\n",
        "    value = df_x.loc[i, columFilter]\n",
        "    moda = calc_moda_subgrupo(X_train, value, columFilter, columModa)\n",
        "    if moda is None:\n",
        "      df_x = df_x.drop(i)\n",
        "      df_y = df_y.drop(i)\n",
        "    else:\n",
        "      df_x.loc[i, columModa] = moda\n",
        "  return df_x, df_y\n",
        "\n",
        "def preencher_valores_com_media_subgrupo(df_x, df_y, X_train, columMedia, columFilter): # Preenche valores ausentes com a média específica de um subgrupo de uma coluna do dataset\n",
        "  id_linhas_nulas = df_x[df_x[columMedia].isnull()].index\n",
        "  for i in id_linhas_nulas:\n",
        "    value = df_x.loc[i, columFilter]\n",
        "    media = calc_media_subgrupo(X_train, value, columFilter, columMedia)\n",
        "    if pd.isna(media):\n",
        "      df_x = df_x.drop(i)\n",
        "      df_y = df_y.drop(i)\n",
        "    else:\n",
        "      df_x.loc[i, columMedia] = media\n",
        "  return df_x, df_y\n",
        "\n",
        "def tratando_valores_ausentes(df_x, df_y, X_train):\n",
        "  isTeste = False\n",
        "  if df_x.equals(X_train):\n",
        "    isTeste = True\n",
        "\n",
        "  colunas_nulas = df_x.isnull().sum()\n",
        "  colunas_nulas = colunas_nulas[colunas_nulas > 0].index\n",
        "  for column_name in colunas_nulas:\n",
        "    if column_name == 'Displacement':\n",
        "      df_x, df_y = preencher_valores_com_media_subgrupo(df_x, df_y, X_train, column_name, 'Engine Type')\n",
        "    elif column_name == 'No_of_Cylinders':\n",
        "      df_x, df_y = preencher_valores_com_moda_subgrupo(df_x, df_y, X_train, column_name, 'Engine Type')\n",
        "    elif df[column_name].dtype == 'object':\n",
        "      df_x[column_name].fillna(X_train[column_name].mode()[0], inplace=True)\n",
        "    else:\n",
        "      if column_name in ['Seats', 'Variants']:\n",
        "        df_x[column_name].fillna(X_train[column_name].mode()[0], inplace=True)\n",
        "      else:\n",
        "        df_x[column_name].fillna(X_train[column_name].mean(), inplace=True)\n",
        "\n",
        "    if not isTeste:\n",
        "        X_train = df_x\n",
        "  return df_x, df_y\n",
        "\n",
        "X_train, y_train = tratando_valores_ausentes(X_train, y_train, X_train)\n",
        "X_test, y_test = tratando_valores_ausentes(X_test, y_test, X_train)"
      ],
      "metadata": {
        "id": "VRlxXYSUjv_N"
      },
      "execution_count": null,
      "outputs": []
    },
    {
      "cell_type": "code",
      "source": [
        "X_train.info()"
      ],
      "metadata": {
        "id": "YXkLQANWc6kt",
        "outputId": "46e2b944-49d5-4749-b26a-f3ed8d66c8b2",
        "colab": {
          "base_uri": "https://localhost:8080/"
        }
      },
      "execution_count": null,
      "outputs": [
        {
          "output_type": "stream",
          "name": "stdout",
          "text": [
            "<class 'pandas.core.frame.DataFrame'>\n",
            "Index: 108 entries, 45 to 143\n",
            "Data columns (total 23 columns):\n",
            " #   Column              Non-Null Count  Dtype  \n",
            "---  ------              --------------  -----  \n",
            " 0   Maker               108 non-null    object \n",
            " 1   Type                108 non-null    object \n",
            " 2   Seats               108 non-null    int64  \n",
            " 3   Displacement        108 non-null    float64\n",
            " 4   Length              108 non-null    int64  \n",
            " 5   Width               108 non-null    int64  \n",
            " 6   Height              108 non-null    int64  \n",
            " 7   Wheelbase           108 non-null    int64  \n",
            " 8   No_of_Cylinders     108 non-null    float64\n",
            " 9   Fuel                108 non-null    object \n",
            " 10  Engine Type         108 non-null    object \n",
            " 11  Transmission        108 non-null    object \n",
            " 12  Front Brake         108 non-null    object \n",
            " 13  Rear Brake          108 non-null    object \n",
            " 14  Drive               108 non-null    object \n",
            " 15  Turning Radius      108 non-null    float64\n",
            " 16  Fuel Tank Capacity  108 non-null    float64\n",
            " 17  Boot Space          108 non-null    float64\n",
            " 18  Fuel Efficiency     108 non-null    float64\n",
            " 19  Emission Type       108 non-null    object \n",
            " 20  Tyre Size           108 non-null    object \n",
            " 21  Variants            108 non-null    int64  \n",
            " 22  NCAP Rating         108 non-null    object \n",
            "dtypes: float64(6), int64(6), object(11)\n",
            "memory usage: 20.2+ KB\n"
          ]
        }
      ]
    },
    {
      "cell_type": "code",
      "source": [
        "y_train.info()"
      ],
      "metadata": {
        "id": "2alJ4eSQc7KD",
        "outputId": "98eac4c7-1205-4f68-a223-571577f30d7d",
        "colab": {
          "base_uri": "https://localhost:8080/"
        }
      },
      "execution_count": null,
      "outputs": [
        {
          "output_type": "stream",
          "name": "stdout",
          "text": [
            "<class 'pandas.core.frame.DataFrame'>\n",
            "Index: 108 entries, 45 to 143\n",
            "Data columns (total 1 columns):\n",
            " #   Column  Non-Null Count  Dtype \n",
            "---  ------  --------------  ----- \n",
            " 0   Model   108 non-null    object\n",
            "dtypes: object(1)\n",
            "memory usage: 1.7+ KB\n"
          ]
        }
      ]
    },
    {
      "cell_type": "markdown",
      "source": [
        "### Lidando com registros duplicados"
      ],
      "metadata": {
        "id": "GJ74oc75NLa5"
      }
    },
    {
      "cell_type": "code",
      "source": [
        "def removing_duplicate_rows(df_x, df_y):\n",
        "  if df_x.duplicated().sum() > 0:\n",
        "    df_x = df_x.drop_duplicates()\n",
        "    df_y = df_y.loc[df_x.index]\n",
        "  return df_x, df_y\n",
        "\n",
        "X_train, y_train= removing_duplicate_rows(X_train, y_train)\n",
        "X_test, y_test = removing_duplicate_rows(X_test, y_test)"
      ],
      "metadata": {
        "id": "w6a9mxqwMhdF"
      },
      "execution_count": null,
      "outputs": []
    },
    {
      "cell_type": "markdown",
      "source": [
        "### Lidando com colunas constantes"
      ],
      "metadata": {
        "id": "oWuiawprZkRC"
      }
    },
    {
      "cell_type": "code",
      "source": [
        "def removing_constant_columns(df_train, df_test):\n",
        "  constant_columns = [col for col in df_train.columns if df_train[col].nunique() == 1]\n",
        "  df_train = df_train.drop(columns=constant_columns)\n",
        "  df_test = df_test.drop(columns=constant_columns)\n",
        "  return df_train, df_test\n",
        "\n",
        "X_train, X_test = removing_constant_columns(X_train, X_test)"
      ],
      "metadata": {
        "id": "1lhEtEMTZszP"
      },
      "execution_count": null,
      "outputs": []
    },
    {
      "cell_type": "markdown",
      "source": [
        "## Transformação dos dados\n",
        "Novamente, deve-se tomar cuidado com o vazamento de dados. O último link fornecido aqui demonstra como realizar transformações sem ocorrer vazamento de dados.\n",
        "\n",
        "Material de apoio:\n",
        "- https://medium.com/@meritshot/standardization-v-s-normalization-6f93225fbd84#:~:text=Standardization%2C%20interestingly%2C%20refers%20to%20setting,data%20onto%20the%20unit%20sphere.\n",
        "- https://www.shiksha.com/online-courses/articles/normalization-and-standardization/\n",
        "- https://scikit-learn.org/stable/modules/generated/sklearn.preprocessing.MinMaxScaler.html\n",
        "- https://scikit-learn.org/stable/modules/generated/sklearn.preprocessing.StandardScaler.html\n",
        "- https://machinelearningmastery.com/data-preparation-without-data-leakage/"
      ],
      "metadata": {
        "id": "Ie5sCP5nmvJY"
      }
    },
    {
      "cell_type": "markdown",
      "source": [
        "### Conversão de tipo de dados"
      ],
      "metadata": {
        "id": "H1ci4TiQU7sK"
      }
    },
    {
      "cell_type": "markdown",
      "source": [
        "Analizando o contexto e a natureza dos dados espera-se que os tipos de dados para cada coluna do dataset sejam essas:\n",
        "*   Object (categórico): Model, Maker, Type, Fuel, Engine Type, Transmission, Rear Brake, Drive, Emission Type, 'NCAP Rating', Tyre Size, Variants.\n",
        "*   Inteiro: Seats, No_of_Cylinders.\n",
        "*   Float: Displacement, Length, Width, Height, Wheelbase, Turning Radius, Fuel Tank Capacity, Boot Space, Fuel Efficiency.\n"
      ],
      "metadata": {
        "id": "3qt829b5PqTY"
      }
    },
    {
      "cell_type": "code",
      "source": [
        "X_train.dtypes"
      ],
      "metadata": {
        "colab": {
          "base_uri": "https://localhost:8080/"
        },
        "id": "FrJWH6nDNm5g",
        "outputId": "0365c572-7910-4213-d8c9-be0fc4af9bee"
      },
      "execution_count": null,
      "outputs": [
        {
          "output_type": "execute_result",
          "data": {
            "text/plain": [
              "Maker                  object\n",
              "Type                   object\n",
              "Seats                   int64\n",
              "Displacement          float64\n",
              "Length                  int64\n",
              "Width                   int64\n",
              "Height                  int64\n",
              "Wheelbase               int64\n",
              "No_of_Cylinders       float64\n",
              "Fuel                   object\n",
              "Engine Type            object\n",
              "Transmission           object\n",
              "Rear Brake             object\n",
              "Drive                  object\n",
              "Turning Radius        float64\n",
              "Fuel Tank Capacity    float64\n",
              "Boot Space            float64\n",
              "Fuel Efficiency       float64\n",
              "Emission Type          object\n",
              "Tyre Size              object\n",
              "Variants                int64\n",
              "NCAP Rating            object\n",
              "dtype: object"
            ]
          },
          "metadata": {},
          "execution_count": 80
        }
      ]
    },
    {
      "cell_type": "markdown",
      "source": [
        "As colunas que necessitam de transformações são:\n",
        "\n",
        "\n",
        "float -> int: No_of_Cylinders\n",
        "\n",
        "\n",
        "int -> float: Length, Width, Height, Wheelbase,"
      ],
      "metadata": {
        "id": "6rpl7-xBQq9v"
      }
    },
    {
      "cell_type": "code",
      "source": [
        "def data_transformation1(df):\n",
        "  for column in df.columns:\n",
        "    if df[column].dtype != 'int64' and column in ['No_of_Cylinders', 'Seats']:\n",
        "      df[column] = df[column].astype('int64')\n",
        "    if df[column].dtype != 'float64' and column in ['Displacement', 'Length', 'Width', 'Height', 'Wheelbase', 'Turning Radius', 'Fuel Tank Capacity', 'Boot Space', 'Fuel Efficiency']:\n",
        "      df[column] = df[column].astype('float64')\n",
        "    if df[column].dtype != 'object' and column in ['Model', 'Maker', 'Type', 'Fuel', 'Engine Type', 'Transmission', 'Rear Brake', 'Drive', 'Emission Type', 'Tyre Size',  'NCAP Rating', 'Variants']:\n",
        "      df[column] = df[column].astype('object')\n",
        "  return df\n",
        "\n",
        "X_train = data_transformation1(X_train)\n",
        "X_test = data_transformation1(X_test)\n",
        "X_train.dtypes"
      ],
      "metadata": {
        "colab": {
          "base_uri": "https://localhost:8080/"
        },
        "id": "4NYmOHHRRENs",
        "outputId": "f8b930d2-b9a9-4a14-9eef-91d50fa4b3af"
      },
      "execution_count": null,
      "outputs": [
        {
          "output_type": "execute_result",
          "data": {
            "text/plain": [
              "Maker                  object\n",
              "Type                   object\n",
              "Seats                   int64\n",
              "Displacement          float64\n",
              "Length                float64\n",
              "Width                 float64\n",
              "Height                float64\n",
              "Wheelbase             float64\n",
              "No_of_Cylinders         int64\n",
              "Fuel                   object\n",
              "Engine Type            object\n",
              "Transmission           object\n",
              "Rear Brake             object\n",
              "Drive                  object\n",
              "Turning Radius        float64\n",
              "Fuel Tank Capacity    float64\n",
              "Boot Space            float64\n",
              "Fuel Efficiency       float64\n",
              "Emission Type          object\n",
              "Tyre Size              object\n",
              "Variants               object\n",
              "NCAP Rating            object\n",
              "dtype: object"
            ]
          },
          "metadata": {},
          "execution_count": 81
        }
      ]
    },
    {
      "cell_type": "markdown",
      "source": [
        "### Codificação de variáveis ​​categóricas"
      ],
      "metadata": {
        "id": "Q8yATMW8VFCN"
      }
    },
    {
      "cell_type": "code",
      "source": [
        "def data_transformation2(df):\n",
        "  df = pd.get_dummies(df, drop_first=True, columns=['Maker', 'Type', 'Fuel', 'Engine Type', 'Transmission', 'Rear Brake', 'Drive', 'Emission Type', 'Tyre Size',  'NCAP Rating', 'Variants'])\n",
        "  return df\n",
        "\n",
        "X_train = data_transformation2(X_train)\n",
        "X_test = data_transformation2(X_test)\n",
        "X_train, X_test = X_train.align(X_test, join='left', axis=1, fill_value=0)"
      ],
      "metadata": {
        "id": "DMOTHwM2UhI6"
      },
      "execution_count": null,
      "outputs": []
    },
    {
      "cell_type": "markdown",
      "source": [
        "### Normalização dos dados"
      ],
      "metadata": {
        "id": "-_aNOMKc39-Y"
      }
    },
    {
      "cell_type": "markdown",
      "source": [
        "Foi utilizado a normalização porque a distribuição dos dados não é conhecida\n",
        "\n",
        "*   A padronização é preferida para algoritmos que são sensíveis à escala de recursos ou assumem normalidade, como regressão logística\n",
        "*   Máquinas de vetores de suporte, enquanto a normalização é mais adequada para algoritmos baseados em distância, como k-vizinhos mais próximos (KNN).\n"
      ],
      "metadata": {
        "id": "q4wYzyIS__d5"
      }
    },
    {
      "cell_type": "code",
      "source": [
        "from sklearn.preprocessing import MinMaxScaler\n",
        "\n",
        "def data_transformation3(df_train, df_test):\n",
        "  scaler = MinMaxScaler()\n",
        "  scaler.fit(df_train)\n",
        "  df_train = scaler.transform(df_train)\n",
        "  df_test = scaler.transform(df_test)\n",
        "  return df_train, df_test\n",
        "\n",
        "X_train, X_test = data_transformation3(X_train, X_test)"
      ],
      "metadata": {
        "id": "VRMR0d-u8IKL"
      },
      "execution_count": null,
      "outputs": []
    },
    {
      "cell_type": "code",
      "source": [
        "X_train, X_test = pd.DataFrame(X_train), pd.DataFrame(X_test)"
      ],
      "metadata": {
        "id": "RFBgtTUs9sFs"
      },
      "execution_count": null,
      "outputs": []
    },
    {
      "cell_type": "markdown",
      "source": [
        "## Treinamento dos modelos\n"
      ],
      "metadata": {
        "id": "4mCH3vcrMxob"
      }
    },
    {
      "cell_type": "markdown",
      "source": [
        "### Árvore de Decisão\n",
        "Material de apoio:\n",
        "-  https://scikit-learn.org/stable/modules/tree.html"
      ],
      "metadata": {
        "id": "unspc95_NKiT"
      }
    },
    {
      "cell_type": "code",
      "source": [
        "from sklearn.ensemble import RandomForestClassifier\n",
        "\n",
        "random_forest = RandomForestClassifier()\n",
        "random_forest.fit(X_train, y_train)\n",
        "random_forest_preds = random_forest.predict(X_test)"
      ],
      "metadata": {
        "id": "Q_CRg3mUNOLS",
        "colab": {
          "base_uri": "https://localhost:8080/"
        },
        "outputId": "8453a185-2482-4391-efb0-f965c10f20cc"
      },
      "execution_count": null,
      "outputs": [
        {
          "output_type": "stream",
          "name": "stderr",
          "text": [
            "<ipython-input-85-bf2cc0acca41>:4: DataConversionWarning: A column-vector y was passed when a 1d array was expected. Please change the shape of y to (n_samples,), for example using ravel().\n",
            "  random_forest.fit(X_train, y_train)\n"
          ]
        }
      ]
    },
    {
      "cell_type": "markdown",
      "source": [
        "### Máquina de Suporte de Vetores\n",
        "Material de apoio:\n",
        "- https://scikit-learn.org/stable/modules/svm.html"
      ],
      "metadata": {
        "id": "QIuS9-A-NOhJ"
      }
    },
    {
      "cell_type": "code",
      "source": [
        "from sklearn.svm import SVC\n",
        "\n",
        "svc = SVC()\n",
        "svc.fit(X_train, y_train)\n",
        "svc_preds = svc.predict(X_test)"
      ],
      "metadata": {
        "id": "l0ffj-SQNlRi",
        "colab": {
          "base_uri": "https://localhost:8080/"
        },
        "outputId": "36d85ffc-e987-454a-9d50-4b4024fc31ba"
      },
      "execution_count": null,
      "outputs": [
        {
          "output_type": "stream",
          "name": "stderr",
          "text": [
            "/usr/local/lib/python3.10/dist-packages/sklearn/utils/validation.py:1143: DataConversionWarning: A column-vector y was passed when a 1d array was expected. Please change the shape of y to (n_samples, ), for example using ravel().\n",
            "  y = column_or_1d(y, warn=True)\n"
          ]
        }
      ]
    },
    {
      "cell_type": "markdown",
      "source": [
        "### KNN\n",
        "Material de apoio:\n",
        "- https://scikit-learn.org/stable/modules/generated/sklearn.neighbors.KNeighborsClassifier.html"
      ],
      "metadata": {
        "id": "rTh6Nkp6Nqz_"
      }
    },
    {
      "cell_type": "code",
      "source": [
        "from sklearn.neighbors import KNeighborsClassifier\n",
        "\n",
        "k_neighbors = KNeighborsClassifier()\n",
        "k_neighbors.fit(X_train, y_train)\n",
        "k_neighbors_preds = k_neighbors.predict(X_test)"
      ],
      "metadata": {
        "id": "ynI9uaMBiyjH",
        "colab": {
          "base_uri": "https://localhost:8080/"
        },
        "outputId": "b8f8b399-3f49-4527-d481-d870cc25cafe"
      },
      "execution_count": null,
      "outputs": [
        {
          "output_type": "stream",
          "name": "stderr",
          "text": [
            "/usr/local/lib/python3.10/dist-packages/sklearn/neighbors/_classification.py:215: DataConversionWarning: A column-vector y was passed when a 1d array was expected. Please change the shape of y to (n_samples,), for example using ravel().\n",
            "  return self._fit(X, y)\n"
          ]
        }
      ]
    },
    {
      "cell_type": "markdown",
      "source": [
        "## Métricas de Avaliação\n",
        "Para avaliar adequadamente o desempenho do modelo de classificação, é essencial calcular e analísar algumas métricas, tais como: acurácia, precisão, recall e F1-score. Além disso, a construção de uma matriz de confusão é fundamental para uma visualização mais clara e detalhada do desempenho dos modelos em questão.\n",
        "\n",
        "Depois de treinar os três modelos, analise os resultados alcançados e discuta qual deles, em sua opinião, obteve os melhores desempenhos.\n",
        "\n",
        "Material de apoio:\n",
        "- https://medium.com/@impythonprogrammer/evaluation-metrics-for-classification-fc770511052d\n",
        "- https://github.com/H2IA/escola-de-verao-2021/blob/main/notebooks/colab/M%C3%A9tricas.ipynb"
      ],
      "metadata": {
        "id": "GoyVT21iN5pZ"
      }
    },
    {
      "cell_type": "code",
      "source": [
        "import numpy as np\n",
        "from sklearn.metrics import confusion_matrix\n",
        "import seaborn as sns\n",
        "import matplotlib.pyplot as plt\n",
        "\n",
        "def matrix(confusionMatrix, name):\n",
        "    plt.figure(figsize=(14, 10))\n",
        "    sns.heatmap(confusionMatrix, annot=True, fmt='d', cmap='Blues', xticklabels=range(31), yticklabels=range(31))\n",
        "    plt.title(f'Matriz de Confusão {name}')\n",
        "    plt.xlabel('Classe Predita')\n",
        "    plt.ylabel('Classe Real')\n",
        "    plt.show()\n",
        "\n",
        "confusionMatrix = confusion_matrix(np.array(random_forest_preds), y_test)\n",
        "matrix(confusionMatrix, \"Random Forest\")\n",
        "\n",
        "confusionMatrix = confusion_matrix(np.array(svc_preds), y_test)\n",
        "matrix(confusionMatrix, \"SVC\")\n",
        "\n",
        "confusionMatrix = confusion_matrix(np.array(k_neighbors_preds), y_test)\n",
        "matrix(confusionMatrix, \"KNN\")\n"
      ],
      "metadata": {
        "colab": {
          "base_uri": "https://localhost:8080/",
          "height": 1000
        },
        "id": "DkhGFGVcLsLq",
        "outputId": "39084cdb-2af2-4ddb-9cd5-f039d5311189"
      },
      "execution_count": null,
      "outputs": [
        {
          "output_type": "display_data",
          "data": {
            "text/plain": [
              "<Figure size 1400x1000 with 2 Axes>"
            ],
            "image/png": "[encoded data removed]"
          },
          "metadata": {}
        },
        {
          "output_type": "display_data",
          "data": {
            "text/plain": [
              "<Figure size 1400x1000 with 2 Axes>"
            ],
            "image/png": "[encoded data removed]"
          },
          "metadata": {}
        },
        {
          "output_type": "display_data",
          "data": {
            "text/plain": [
              "<Figure size 1400x1000 with 2 Axes>"
            ],
            "image/png": "[encoded data removed]"
          },
          "metadata": {}
        }
      ]
    },
    {
      "cell_type": "markdown",
      "source": [
        "Os valores na diagonal da matriz de confusão representam o número de instâncias que foram corretamente classificadas pelo modelo. Enquanto que os valores fora da diagonal indicam erros de classificação. Percebe-se que a matriz mostra que a maioria das instâncias foi corretamente classificada, mas há algumas exceções entre algumas classes. Esse valores fora da diagonal principal são mais visíveis para o SVC e o KNN, indicando uma maior taxa de erro em predizer essas classes"
      ],
      "metadata": {
        "id": "BzAsFBUAyp3E"
      }
    },
    {
      "cell_type": "code",
      "source": [
        "print(\"Random Forest\")\n",
        "print(classification_report(y_test, random_forest_preds))"
      ],
      "metadata": {
        "colab": {
          "base_uri": "https://localhost:8080/"
        },
        "id": "w4oWHbOMzvGX",
        "outputId": "5fde14c0-75ac-4673-ebb6-f23fbf81b326"
      },
      "execution_count": null,
      "outputs": [
        {
          "output_type": "stream",
          "name": "stdout",
          "text": [
            "Random Forest\n",
            "                 precision    recall  f1-score   support\n",
            "\n",
            "        Alcazar       1.00      1.00      1.00         3\n",
            "          Amaze       0.33      1.00      0.50         1\n",
            "           Aura       1.00      1.00      1.00         1\n",
            "             C3       0.00      0.00      0.00         2\n",
            "       Carnival       1.00      1.00      1.00         1\n",
            "   City 5th Gen       0.50      1.00      0.67         1\n",
            "     City e-HEV       0.00      0.00      0.00         1\n",
            "          Creta       1.00      1.00      1.00         2\n",
            "       Fortuner       1.00      1.00      1.00         2\n",
            "         Glanza       0.00      0.00      0.00         0\n",
            " Grand i10 Nios       1.00      1.00      1.00         1\n",
            "           Jazz       0.00      0.00      0.00         2\n",
            "          Kiger       1.00      1.00      1.00         2\n",
            "           Kwid       1.00      1.00      1.00         1\n",
            "        Magnite       1.00      1.00      1.00         2\n",
            "         Safari       1.00      1.00      1.00         2\n",
            "Scorpio Classic       0.00      0.00      0.00         2\n",
            "      Scorpio-N       0.60      1.00      0.75         3\n",
            "         Seltos       1.00      1.00      1.00         2\n",
            "          Sonet       1.00      1.00      1.00         1\n",
            "         Taigun       1.00      1.00      1.00         1\n",
            "    Thar AX OPT       0.00      0.00      0.00         1\n",
            "        Thar LX       0.50      1.00      0.67         1\n",
            "         Tucson       1.00      1.00      1.00         1\n",
            "          Venue       1.00      1.00      1.00         2\n",
            "          Verna       1.00      1.00      1.00         2\n",
            "           WR-V       1.00      1.00      1.00         1\n",
            "        XUV 300       1.00      1.00      1.00         2\n",
            "        XUV 700       1.00      1.00      1.00         2\n",
            "            i20       0.50      1.00      0.67         1\n",
            "     i20 N-Line       0.00      0.00      0.00         1\n",
            "\n",
            "       accuracy                           0.81        47\n",
            "      macro avg       0.69      0.77      0.72        47\n",
            "   weighted avg       0.74      0.81      0.76        47\n",
            "\n"
          ]
        },
        {
          "output_type": "stream",
          "name": "stderr",
          "text": [
            "/usr/local/lib/python3.10/dist-packages/sklearn/metrics/_classification.py:1344: UndefinedMetricWarning: Precision and F-score are ill-defined and being set to 0.0 in labels with no predicted samples. Use `zero_division` parameter to control this behavior.\n",
            "  _warn_prf(average, modifier, msg_start, len(result))\n",
            "/usr/local/lib/python3.10/dist-packages/sklearn/metrics/_classification.py:1344: UndefinedMetricWarning: Recall and F-score are ill-defined and being set to 0.0 in labels with no true samples. Use `zero_division` parameter to control this behavior.\n",
            "  _warn_prf(average, modifier, msg_start, len(result))\n",
            "/usr/local/lib/python3.10/dist-packages/sklearn/metrics/_classification.py:1344: UndefinedMetricWarning: Precision and F-score are ill-defined and being set to 0.0 in labels with no predicted samples. Use `zero_division` parameter to control this behavior.\n",
            "  _warn_prf(average, modifier, msg_start, len(result))\n",
            "/usr/local/lib/python3.10/dist-packages/sklearn/metrics/_classification.py:1344: UndefinedMetricWarning: Recall and F-score are ill-defined and being set to 0.0 in labels with no true samples. Use `zero_division` parameter to control this behavior.\n",
            "  _warn_prf(average, modifier, msg_start, len(result))\n",
            "/usr/local/lib/python3.10/dist-packages/sklearn/metrics/_classification.py:1344: UndefinedMetricWarning: Precision and F-score are ill-defined and being set to 0.0 in labels with no predicted samples. Use `zero_division` parameter to control this behavior.\n",
            "  _warn_prf(average, modifier, msg_start, len(result))\n",
            "/usr/local/lib/python3.10/dist-packages/sklearn/metrics/_classification.py:1344: UndefinedMetricWarning: Recall and F-score are ill-defined and being set to 0.0 in labels with no true samples. Use `zero_division` parameter to control this behavior.\n",
            "  _warn_prf(average, modifier, msg_start, len(result))\n"
          ]
        }
      ]
    },
    {
      "cell_type": "markdown",
      "source": [
        "Observa-se que modelo Random Forest demonstra um bom desempenho geral com alta precisão, recall e F1-score para a maioria das categorias. No entanto, observa-se que em algumas classes com poucos exemplos, pois não há amostras pertencentes a essas classes no conjunto de teste, o que acaba influenciando na avaliação."
      ],
      "metadata": {
        "id": "vOswczKgO5YQ"
      }
    },
    {
      "cell_type": "code",
      "source": [
        "print(\"Support Vector Machine\")\n",
        "print(classification_report(y_test, svc_preds))"
      ],
      "metadata": {
        "colab": {
          "base_uri": "https://localhost:8080/"
        },
        "id": "fw_Dip0bOdwz",
        "outputId": "b1d4ab5b-265b-4942-e780-b2abfe5ec731"
      },
      "execution_count": null,
      "outputs": [
        {
          "output_type": "stream",
          "name": "stdout",
          "text": [
            "Support Vector Machine\n",
            "                 precision    recall  f1-score   support\n",
            "\n",
            "        Alcazar       1.00      1.00      1.00         3\n",
            "          Amaze       0.25      1.00      0.40         1\n",
            "           Aura       1.00      1.00      1.00         1\n",
            "             C3       0.00      0.00      0.00         2\n",
            "       Carnival       1.00      1.00      1.00         1\n",
            "   City 5th Gen       1.00      1.00      1.00         1\n",
            "     City e-HEV       0.00      0.00      0.00         1\n",
            "          Creta       0.00      0.00      0.00         2\n",
            "       Fortuner       1.00      1.00      1.00         2\n",
            " Grand i10 Nios       1.00      1.00      1.00         1\n",
            "           Jazz       0.00      0.00      0.00         2\n",
            "          Kiger       0.50      1.00      0.67         2\n",
            "           Kwid       1.00      1.00      1.00         1\n",
            "        Magnite       0.00      0.00      0.00         2\n",
            "         Safari       1.00      1.00      1.00         2\n",
            "Scorpio Classic       0.00      0.00      0.00         2\n",
            "      Scorpio-N       0.60      1.00      0.75         3\n",
            "         Seltos       0.50      1.00      0.67         2\n",
            "          Sonet       0.25      1.00      0.40         1\n",
            "         Taigun       1.00      1.00      1.00         1\n",
            "    Thar AX OPT       0.00      0.00      0.00         1\n",
            "        Thar LX       0.50      1.00      0.67         1\n",
            "         Tucson       0.00      0.00      0.00         1\n",
            "          Venue       1.00      0.50      0.67         2\n",
            "          Verna       1.00      1.00      1.00         2\n",
            "         Virtus       0.00      0.00      0.00         0\n",
            "           WR-V       0.00      0.00      0.00         1\n",
            "        XUV 300       1.00      1.00      1.00         2\n",
            "        XUV 700       1.00      1.00      1.00         2\n",
            "            i20       0.50      1.00      0.67         1\n",
            "     i20 N-Line       0.00      0.00      0.00         1\n",
            "\n",
            "       accuracy                           0.66        47\n",
            "      macro avg       0.52      0.63      0.54        47\n",
            "   weighted avg       0.56      0.66      0.58        47\n",
            "\n"
          ]
        },
        {
          "output_type": "stream",
          "name": "stderr",
          "text": [
            "/usr/local/lib/python3.10/dist-packages/sklearn/metrics/_classification.py:1344: UndefinedMetricWarning: Precision and F-score are ill-defined and being set to 0.0 in labels with no predicted samples. Use `zero_division` parameter to control this behavior.\n",
            "  _warn_prf(average, modifier, msg_start, len(result))\n",
            "/usr/local/lib/python3.10/dist-packages/sklearn/metrics/_classification.py:1344: UndefinedMetricWarning: Recall and F-score are ill-defined and being set to 0.0 in labels with no true samples. Use `zero_division` parameter to control this behavior.\n",
            "  _warn_prf(average, modifier, msg_start, len(result))\n",
            "/usr/local/lib/python3.10/dist-packages/sklearn/metrics/_classification.py:1344: UndefinedMetricWarning: Precision and F-score are ill-defined and being set to 0.0 in labels with no predicted samples. Use `zero_division` parameter to control this behavior.\n",
            "  _warn_prf(average, modifier, msg_start, len(result))\n",
            "/usr/local/lib/python3.10/dist-packages/sklearn/metrics/_classification.py:1344: UndefinedMetricWarning: Recall and F-score are ill-defined and being set to 0.0 in labels with no true samples. Use `zero_division` parameter to control this behavior.\n",
            "  _warn_prf(average, modifier, msg_start, len(result))\n",
            "/usr/local/lib/python3.10/dist-packages/sklearn/metrics/_classification.py:1344: UndefinedMetricWarning: Precision and F-score are ill-defined and being set to 0.0 in labels with no predicted samples. Use `zero_division` parameter to control this behavior.\n",
            "  _warn_prf(average, modifier, msg_start, len(result))\n",
            "/usr/local/lib/python3.10/dist-packages/sklearn/metrics/_classification.py:1344: UndefinedMetricWarning: Recall and F-score are ill-defined and being set to 0.0 in labels with no true samples. Use `zero_division` parameter to control this behavior.\n",
            "  _warn_prf(average, modifier, msg_start, len(result))\n"
          ]
        }
      ]
    },
    {
      "cell_type": "markdown",
      "source": [
        "Observa-se que o SVM mostra um desempenho pior na classificação multiclasse, com métricas de precisão, recall e F1-score médias de aproximadamente 0.48, 0.58 e 0.50, respectivamente. Isso indica dificuldades em prever corretamente várias classes, resultando em um número significativo de falsos positivos e uma sensibilidade variável para diferentes classes."
      ],
      "metadata": {
        "id": "-c_OrU6NQzEM"
      }
    },
    {
      "cell_type": "code",
      "source": [
        "print(\"KNN\")\n",
        "print(classification_report(y_test, k_neighbors_preds))"
      ],
      "metadata": {
        "colab": {
          "base_uri": "https://localhost:8080/"
        },
        "id": "e48sSZjJOf80",
        "outputId": "21fffca2-75a3-4286-9f1c-e9d8a68f0dec"
      },
      "execution_count": null,
      "outputs": [
        {
          "output_type": "stream",
          "name": "stdout",
          "text": [
            "KNN\n",
            "                 precision    recall  f1-score   support\n",
            "\n",
            "        Alcazar       1.00      1.00      1.00         3\n",
            "          Amaze       0.25      1.00      0.40         1\n",
            "           Aura       0.50      1.00      0.67         1\n",
            "             C3       0.00      0.00      0.00         2\n",
            "       Carnival       1.00      1.00      1.00         1\n",
            "   City 5th Gen       0.50      1.00      0.67         1\n",
            "     City e-HEV       0.00      0.00      0.00         1\n",
            "          Creta       0.50      0.50      0.50         2\n",
            "       Fortuner       1.00      1.00      1.00         2\n",
            "         Glanza       0.00      0.00      0.00         0\n",
            " Grand i10 Nios       0.50      1.00      0.67         1\n",
            "        Harrier       0.00      0.00      0.00         0\n",
            "           Jazz       0.00      0.00      0.00         2\n",
            "          Kiger       0.50      1.00      0.67         2\n",
            "           Kwid       0.00      0.00      0.00         1\n",
            "        Magnite       0.00      0.00      0.00         2\n",
            "         Safari       0.00      0.00      0.00         2\n",
            "Scorpio Classic       0.00      0.00      0.00         2\n",
            "      Scorpio-N       0.60      1.00      0.75         3\n",
            "         Seltos       0.67      1.00      0.80         2\n",
            "          Sonet       1.00      1.00      1.00         1\n",
            "         Taigun       1.00      1.00      1.00         1\n",
            "    Thar AX OPT       0.00      0.00      0.00         1\n",
            "        Thar LX       0.50      1.00      0.67         1\n",
            "         Tucson       0.00      0.00      0.00         1\n",
            "          Venue       1.00      0.50      0.67         2\n",
            "          Verna       1.00      1.00      1.00         2\n",
            "           WR-V       0.00      0.00      0.00         1\n",
            "        XUV 300       1.00      0.50      0.67         2\n",
            "        XUV 700       0.67      1.00      0.80         2\n",
            "            i20       0.50      1.00      0.67         1\n",
            "     i20 N-Line       0.00      0.00      0.00         1\n",
            "\n",
            "       accuracy                           0.60        47\n",
            "      macro avg       0.43      0.55      0.46        47\n",
            "   weighted avg       0.49      0.60      0.51        47\n",
            "\n"
          ]
        },
        {
          "output_type": "stream",
          "name": "stderr",
          "text": [
            "/usr/local/lib/python3.10/dist-packages/sklearn/metrics/_classification.py:1344: UndefinedMetricWarning: Precision and F-score are ill-defined and being set to 0.0 in labels with no predicted samples. Use `zero_division` parameter to control this behavior.\n",
            "  _warn_prf(average, modifier, msg_start, len(result))\n",
            "/usr/local/lib/python3.10/dist-packages/sklearn/metrics/_classification.py:1344: UndefinedMetricWarning: Recall and F-score are ill-defined and being set to 0.0 in labels with no true samples. Use `zero_division` parameter to control this behavior.\n",
            "  _warn_prf(average, modifier, msg_start, len(result))\n",
            "/usr/local/lib/python3.10/dist-packages/sklearn/metrics/_classification.py:1344: UndefinedMetricWarning: Precision and F-score are ill-defined and being set to 0.0 in labels with no predicted samples. Use `zero_division` parameter to control this behavior.\n",
            "  _warn_prf(average, modifier, msg_start, len(result))\n",
            "/usr/local/lib/python3.10/dist-packages/sklearn/metrics/_classification.py:1344: UndefinedMetricWarning: Recall and F-score are ill-defined and being set to 0.0 in labels with no true samples. Use `zero_division` parameter to control this behavior.\n",
            "  _warn_prf(average, modifier, msg_start, len(result))\n",
            "/usr/local/lib/python3.10/dist-packages/sklearn/metrics/_classification.py:1344: UndefinedMetricWarning: Precision and F-score are ill-defined and being set to 0.0 in labels with no predicted samples. Use `zero_division` parameter to control this behavior.\n",
            "  _warn_prf(average, modifier, msg_start, len(result))\n",
            "/usr/local/lib/python3.10/dist-packages/sklearn/metrics/_classification.py:1344: UndefinedMetricWarning: Recall and F-score are ill-defined and being set to 0.0 in labels with no true samples. Use `zero_division` parameter to control this behavior.\n",
            "  _warn_prf(average, modifier, msg_start, len(result))\n"
          ]
        }
      ]
    },
    {
      "cell_type": "markdown",
      "source": [
        "Em comparação com o SVM, o KNN apresenta métricas de desempenho semelhantes, com uma tendência a alcançar um recall um pouco melhor, mas com precisão inferior para várias classes. No entanto, quando comparado ao Random Forest, observa-se que o KNN possui um desempenho realmente inferior"
      ],
      "metadata": {
        "id": "WoLM98pSRd2g"
      }
    },
    {
      "cell_type": "markdown",
      "source": [
        "Assim com base na análise conclui-se que devido ao desempenho superior das árvores de decisão em precisão e recall as árvores de decisão são as mais indicadas para esse problema. Já que é capaz de lidar bem com complexidade nos dados e classes desbalanceadas, oferecendo uma boa combinação de precisão e capacidade de generalização"
      ],
      "metadata": {
        "id": "kh_UkSbQSVWQ"
      }
    }
  ]
}